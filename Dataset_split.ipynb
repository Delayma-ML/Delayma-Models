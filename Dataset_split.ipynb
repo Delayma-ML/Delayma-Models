{
 "cells": [
  {
   "cell_type": "code",
   "execution_count": 1,
   "metadata": {
    "collapsed": true
   },
   "outputs": [],
   "source": [
    "import pandas as pd\n",
    "import numpy as np\n",
    "import matplotlib.pyplot as plt\n",
    "import seaborn as sns"
   ]
  },
  {
   "cell_type": "code",
   "execution_count": 2,
   "outputs": [],
   "source": [
    "df = pd.read_csv('Datasets/df_preprocessed.csv')\n",
    "df.head()\n",
    "df = df.drop(\"DEP_TIME_M\",axis=1)"
   ],
   "metadata": {
    "collapsed": false
   }
  },
  {
   "cell_type": "code",
   "execution_count": 3,
   "outputs": [],
   "source": [
    "mapping = {'ABQ': 0, 'ATL': 1, 'AUS': 2, 'BNA': 3, 'BOS': 4, 'BQN': 5, 'BTV': 6, 'BUF': 7, 'BUR': 8, 'BWI': 9, 'CHS': 10, 'CLE': 11, 'CLT': 12, 'CMH': 13, 'CVG': 14, 'DCA': 15, 'DEN': 16, 'DFW': 17, 'DTW': 18, 'EGE': 19, 'FLL': 20, 'HNL': 21, 'IAD': 22, 'IAH': 23, 'IND': 24, 'JAC': 25, 'JAX': 26, 'LAS': 27, 'LAX': 28, 'LGB': 29, 'MCO': 30, 'MIA': 31, 'MSP': 32, 'MSY': 33, 'OAK': 34, 'ONT': 35, 'ORD': 36, 'ORF': 37, 'ORH': 38, 'PBI': 39, 'PDX': 40, 'PHL': 41, 'PHX': 42, 'PIT': 43, 'PSE': 44, 'PSP': 45, 'PWM': 46, 'RDU': 47, 'RIC': 48, 'RNO': 49, 'ROC': 50, 'RSW': 51, 'SAN': 52, 'SAT': 53, 'SAV': 54, 'SEA': 55, 'SFO': 56, 'SJC': 57, 'SJU': 58, 'SLC': 59, 'SMF': 60, 'SRQ': 61, 'STT': 62, 'SYR': 63, 'TPA': 64}"
   ],
   "metadata": {
    "collapsed": false
   }
  },
  {
   "cell_type": "code",
   "execution_count": 4,
   "outputs": [
    {
     "data": {
      "text/plain": "28    2974\n56    1678\n4     1243\n20    1008\n30     947\n      ... \n0       58\n41      48\n49      47\n19      44\n25       5\nName: DEST, Length: 65, dtype: int64"
     },
     "execution_count": 4,
     "metadata": {},
     "output_type": "execute_result"
    }
   ],
   "source": [
    "df['DEST'].value_counts().sort_values(ascending=False)\n"
   ],
   "metadata": {
    "collapsed": false
   }
  },
  {
   "cell_type": "markdown",
   "source": [
    "TOP 3 DESTINATIONS\n",
    "Los Angeles, LAX\n",
    "San Francisco, SFO\n",
    "Boston,BOS"
   ],
   "metadata": {
    "collapsed": false
   }
  },
  {
   "cell_type": "code",
   "execution_count": 5,
   "outputs": [
    {
     "data": {
      "text/plain": "(5895, 35)"
     },
     "execution_count": 5,
     "metadata": {},
     "output_type": "execute_result"
    }
   ],
   "source": [
    "\n",
    "df_1_3 = df[df['DEST'].isin([mapping['LAX'],mapping['SFO'],mapping['BOS']])]\n",
    "df_1_3.shape"
   ],
   "metadata": {
    "collapsed": false
   }
  },
  {
   "cell_type": "markdown",
   "source": [
    "TOP 10 DESTINATIONS\n",
    "Los Angeles, LAX\n",
    "San Francisco, SFO\n",
    "Boston,BOS\n",
    "Fort Lauderdale, FLL\n",
    "Orlando, MCO\n",
    "Miami, MIA\n",
    "Buffalo, BUF\n",
    "San Juan, SJU\n",
    "Atlanta, ATL\n",
    "Charlotte, CLT"
   ],
   "metadata": {
    "collapsed": false
   }
  },
  {
   "cell_type": "code",
   "execution_count": 6,
   "outputs": [
    {
     "data": {
      "text/plain": "(11983, 35)"
     },
     "execution_count": 6,
     "metadata": {},
     "output_type": "execute_result"
    }
   ],
   "source": [
    "df_1_10 = df[df['DEST'].isin([mapping['LAX'],mapping['SFO'],mapping['BOS'],mapping['FLL'],mapping['MCO'],mapping['MIA'],mapping['BUF'],mapping['SJU'],mapping['ATL'],mapping['CLT']])]\n",
    "df_1_10.shape"
   ],
   "metadata": {
    "collapsed": false
   }
  },
  {
   "cell_type": "markdown",
   "source": [
    "TOP 25 DESTINATIONS\n",
    "Los Angeles, LAX\n",
    "San Francisco, SFO\n",
    "Boston,BOS\n",
    "Fort Lauderdale, FLL\n",
    "Orlando, MCO\n",
    "Miami, MIA\n",
    "Buffalo, BUF\n",
    "San Juan, SJU\n",
    "Atlanta, ATL\n",
    "Charlotte, CLT\n",
    "Raleigh-Durham, RDU\n",
    "Las Vegas, LAS\n",
    "Seattle, SEA\n",
    "Phoenix, PHX\n",
    "Tampa, TPA\n",
    "Chicago, ORD\n",
    "Washington, DCA\n",
    "Salt Lake City, SLC\n",
    "Rochester, ROC\n",
    "Jacksonville, JAX\n",
    "West Palm Beach, PBI\n",
    "Austin, AUS\n",
    "Burlington, BTV\n",
    "San Diego, SAN\n",
    "Norfolk, ORF"
   ],
   "metadata": {
    "collapsed": false
   }
  },
  {
   "cell_type": "code",
   "execution_count": 7,
   "outputs": [
    {
     "data": {
      "text/plain": "(20513, 35)"
     },
     "execution_count": 7,
     "metadata": {},
     "output_type": "execute_result"
    }
   ],
   "source": [
    "df_1_25 = df[df['DEST'].isin([mapping['LAX'],mapping['SFO'],mapping['BOS'],mapping['FLL'],mapping['MCO'],mapping['MIA'],mapping['BUF'],mapping['SJU'],mapping['ATL'],mapping['CLT'],mapping['RDU'],mapping['LAS'],mapping['SEA'],mapping['PHX'],mapping['TPA'],mapping['ORD'],mapping['DCA'],mapping['SLC'],mapping['ROC'],mapping['JAX'],mapping['PBI'],mapping['AUS'],mapping['BTV'],mapping['SAN'],mapping['ORF']])]\n",
    "df_1_25.shape"
   ],
   "metadata": {
    "collapsed": false
   }
  },
  {
   "cell_type": "markdown",
   "source": [
    "CSV FILES"
   ],
   "metadata": {
    "collapsed": false
   }
  },
  {
   "cell_type": "code",
   "execution_count": 9,
   "outputs": [],
   "source": [
    "df.to_csv('Datasets/df_preprocessed.csv')\n",
    "df_1_3.to_csv('Datasets/df_1_3.csv',index=False)\n",
    "df_1_10.to_csv('Datasets/df_1_10.csv',index=False)\n",
    "df_1_25.to_csv('Datasets/df_1_25.csv',index=False)\n"
   ],
   "metadata": {
    "collapsed": false
   }
  },
  {
   "cell_type": "code",
   "execution_count": null,
   "outputs": [],
   "source": [],
   "metadata": {
    "collapsed": false
   }
  }
 ],
 "metadata": {
  "kernelspec": {
   "display_name": "Python 3",
   "language": "python",
   "name": "python3"
  },
  "language_info": {
   "codemirror_mode": {
    "name": "ipython",
    "version": 2
   },
   "file_extension": ".py",
   "mimetype": "text/x-python",
   "name": "python",
   "nbconvert_exporter": "python",
   "pygments_lexer": "ipython2",
   "version": "2.7.6"
  }
 },
 "nbformat": 4,
 "nbformat_minor": 0
}
