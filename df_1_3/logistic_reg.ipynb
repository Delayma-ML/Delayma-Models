{
 "cells": [
  {
   "cell_type": "code",
   "execution_count": 8,
   "metadata": {},
   "outputs": [
    {
     "name": "stdout",
     "output_type": "stream",
     "text": [
      "Requirement already satisfied: numpy in c:\\users\\vartika\\appdata\\local\\programs\\python\\python310\\lib\\site-packages (1.24.4)\n",
      "Requirement already satisfied: pandas in c:\\users\\vartika\\appdata\\local\\programs\\python\\python310\\lib\\site-packages (1.5.3)\n",
      "Requirement already satisfied: matplotlib in c:\\users\\vartika\\appdata\\local\\programs\\python\\python310\\lib\\site-packages (3.5.2)\n",
      "Collecting sklearn\n",
      "  Using cached sklearn-0.0.post12.tar.gz (2.6 kB)\n",
      "  Preparing metadata (setup.py): started\n",
      "  Preparing metadata (setup.py): finished with status 'error'\n"
     ]
    },
    {
     "name": "stderr",
     "output_type": "stream",
     "text": [
      "WARNING: Ignoring invalid distribution -illow (c:\\users\\vartika\\appdata\\local\\programs\\python\\python310\\lib\\site-packages)\n",
      "WARNING: Ignoring invalid distribution -rotobuf (c:\\users\\vartika\\appdata\\local\\programs\\python\\python310\\lib\\site-packages)\n",
      "  error: subprocess-exited-with-error\n",
      "  \n",
      "  python setup.py egg_info did not run successfully.\n",
      "  exit code: 1\n",
      "  \n",
      "  [15 lines of output]\n",
      "  The 'sklearn' PyPI package is deprecated, use 'scikit-learn'\n",
      "  rather than 'sklearn' for pip commands.\n",
      "  \n",
      "  Here is how to fix this error in the main use cases:\n",
      "  - use 'pip install scikit-learn' rather than 'pip install sklearn'\n",
      "  - replace 'sklearn' by 'scikit-learn' in your pip requirements files\n",
      "    (requirements.txt, setup.py, setup.cfg, Pipfile, etc ...)\n",
      "  - if the 'sklearn' package is used by one of your dependencies,\n",
      "    it would be great if you take some time to track which package uses\n",
      "    'sklearn' instead of 'scikit-learn' and report it to their issue tracker\n",
      "  - as a last resort, set the environment variable\n",
      "    SKLEARN_ALLOW_DEPRECATED_SKLEARN_PACKAGE_INSTALL=True to avoid this error\n",
      "  \n",
      "  More information is available at\n",
      "  https://github.com/scikit-learn/sklearn-pypi-package\n",
      "  [end of output]\n",
      "  \n",
      "  note: This error originates from a subprocess, and is likely not a problem with pip.\n",
      "error: metadata-generation-failed\n",
      "\n",
      "Encountered error while generating package metadata.\n",
      "\n",
      "See above for output.\n",
      "\n",
      "note: This is an issue with the package mentioned above, not pip.\n",
      "hint: See above for details.\n",
      "\n",
      "[notice] A new release of pip is available: 23.1.2 -> 23.3.2\n",
      "[notice] To update, run: C:\\Users\\Vartika\\AppData\\Local\\Programs\\Python\\Python310\\python.exe -m pip install --upgrade pip\n"
     ]
    }
   ],
   "source": [
    "!pip install numpy pandas matplotlib sklearn"
   ]
  },
  {
   "cell_type": "code",
   "execution_count": 9,
   "metadata": {},
   "outputs": [
    {
     "data": {
      "text/plain": "RandomState(MT19937) at 0x1E68B6CF540"
     },
     "execution_count": 9,
     "metadata": {},
     "output_type": "execute_result"
    }
   ],
   "source": [
    "import numpy as np\n",
    "import pandas as pd\n",
    "import matplotlib.pyplot as plt\n",
    "from sklearn.metrics import confusion_matrix, classification_report, accuracy_score, recall_score, precision_score, f1_score\n",
    "from sklearn.linear_model import LogisticRegression\n",
    "from sklearn.model_selection import train_test_split\n",
    "# fix a random seed\n",
    "np.random.seed(42)\n",
    "import sklearn\n",
    "sklearn.utils.check_random_state(42)"
   ]
  },
  {
   "cell_type": "code",
   "execution_count": 10,
   "metadata": {},
   "outputs": [
    {
     "name": "stdout",
     "output_type": "stream",
     "text": [
      "C:\\Users\\Vartika\\Documents\\GitHub\\Delayma-Models\n",
      "C:\\Users\\Vartika\\Documents\\GitHub\\Delayma-Models\\df_1_3\n"
     ]
    }
   ],
   "source": [
    "%cd ..\n",
    "data = pd.read_csv('Datasets/df_1_3.csv')\n",
    "data.head()\n",
    "%cd df_1_3"
   ]
  },
  {
   "cell_type": "code",
   "execution_count": 11,
   "metadata": {},
   "outputs": [
    {
     "name": "stdout",
     "output_type": "stream",
     "text": [
      "Index(['MONTH', 'DAY_OF_MONTH', 'DAY_OF_WEEK', 'OP_UNIQUE_CARRIER', 'DEST',\n",
      "       'DEP_DELAY', 'CRS_ELAPSED_TIME', 'DISTANCE', 'CRS_DEP_M', 'CRS_ARR_M',\n",
      "       'Temperature', 'Dew Point', 'Humidity', 'Wind', 'Wind Speed',\n",
      "       'Wind Gust', 'Pressure', 'sch_dep', 'sch_arr', 'TAXI_OUT', 'Cloudy',\n",
      "       'Windy', 'Fair', 'Rain', 'Fog', 'Drizzle', 'Snow', 'Wintry Mix',\n",
      "       'Freezing Rain', 'MONTH_sin', 'MONTH_cos', 'DAY_OF_MONTH_sin',\n",
      "       'DAY_OF_MONTH_cos', 'DAY_OF_WEEK_sin', 'DAY_OF_WEEK_cos'],\n",
      "      dtype='object')\n"
     ]
    }
   ],
   "source": [
    "# print columns\n",
    "print(data.columns)\n",
    "# drop MONTH, DAY_OF_MONTH, DAY_OF_WEEK\n",
    "data.drop(['MONTH', 'DAY_OF_MONTH', 'DAY_OF_WEEK'], axis=1, inplace=True)"
   ]
  },
  {
   "cell_type": "code",
   "execution_count": 12,
   "metadata": {},
   "outputs": [],
   "source": [
    "hyperparameters = {\n",
    "    'penalty' : ['l1', 'l2', 'elasticnet'],\n",
    "    'tol' : [1e-6, 1e-5, 1e-4],\n",
    "    'max_iter' : [100, 500, 1000]\n",
    "}"
   ]
  },
  {
   "cell_type": "code",
   "execution_count": 13,
   "metadata": {},
   "outputs": [
    {
     "name": "stdout",
     "output_type": "stream",
     "text": [
      "Penalty: l1, Tolerance: 1e-06, Max Iterations: 100, Solver: liblinear, Accuracy: 100.0%, Recall: 1.0, Precision: 1.0, F1 Score: 1.0\n",
      "Penalty: l1, Tolerance: 1e-06, Max Iterations: 500, Solver: liblinear, Accuracy: 100.0%, Recall: 1.0, Precision: 1.0, F1 Score: 1.0\n",
      "Penalty: l1, Tolerance: 1e-06, Max Iterations: 1000, Solver: liblinear, Accuracy: 100.0%, Recall: 1.0, Precision: 1.0, F1 Score: 1.0\n",
      "Penalty: l1, Tolerance: 1e-05, Max Iterations: 100, Solver: liblinear, Accuracy: 100.0%, Recall: 1.0, Precision: 1.0, F1 Score: 1.0\n",
      "Penalty: l1, Tolerance: 1e-05, Max Iterations: 500, Solver: liblinear, Accuracy: 100.0%, Recall: 1.0, Precision: 1.0, F1 Score: 1.0\n",
      "Penalty: l1, Tolerance: 1e-05, Max Iterations: 1000, Solver: liblinear, Accuracy: 100.0%, Recall: 1.0, Precision: 1.0, F1 Score: 1.0\n",
      "Penalty: l1, Tolerance: 0.0001, Max Iterations: 100, Solver: liblinear, Accuracy: 100.0%, Recall: 1.0, Precision: 1.0, F1 Score: 1.0\n",
      "Penalty: l1, Tolerance: 0.0001, Max Iterations: 500, Solver: liblinear, Accuracy: 100.0%, Recall: 1.0, Precision: 1.0, F1 Score: 1.0\n",
      "Penalty: l1, Tolerance: 0.0001, Max Iterations: 1000, Solver: liblinear, Accuracy: 100.0%, Recall: 1.0, Precision: 1.0, F1 Score: 1.0\n",
      "Penalty: l2, Tolerance: 1e-06, Max Iterations: 100, Solver: lbfgs, Accuracy: 88.04071246819338%, Recall: 0.028368794326241134, Precision: 0.5, F1 Score: 0.05369127516778523\n",
      "Penalty: l2, Tolerance: 1e-06, Max Iterations: 500, Solver: lbfgs, Accuracy: 99.91518235793045%, Recall: 0.9928057553956835, Precision: 1.0, F1 Score: 0.996389891696751\n",
      "Penalty: l2, Tolerance: 1e-06, Max Iterations: 1000, Solver: lbfgs, Accuracy: 100.0%, Recall: 1.0, Precision: 1.0, F1 Score: 1.0\n",
      "Penalty: l2, Tolerance: 1e-05, Max Iterations: 100, Solver: lbfgs, Accuracy: 88.97370653095844%, Recall: 0.015267175572519083, Precision: 0.6666666666666666, F1 Score: 0.029850746268656712\n",
      "Penalty: l2, Tolerance: 1e-05, Max Iterations: 500, Solver: lbfgs, Accuracy: 100.0%, Recall: 1.0, Precision: 1.0, F1 Score: 1.0\n",
      "Penalty: l2, Tolerance: 1e-05, Max Iterations: 1000, Solver: lbfgs, Accuracy: 100.0%, Recall: 1.0, Precision: 1.0, F1 Score: 1.0\n",
      "Penalty: l2, Tolerance: 0.0001, Max Iterations: 100, Solver: lbfgs, Accuracy: 89.05852417302799%, Recall: 0.03816793893129771, Precision: 0.625, F1 Score: 0.07194244604316548\n",
      "Penalty: l2, Tolerance: 0.0001, Max Iterations: 500, Solver: lbfgs, Accuracy: 97.54028837998302%, Recall: 0.8625954198473282, Precision: 0.9112903225806451, F1 Score: 0.8862745098039215\n",
      "Penalty: l2, Tolerance: 0.0001, Max Iterations: 1000, Solver: lbfgs, Accuracy: 100.0%, Recall: 1.0, Precision: 1.0, F1 Score: 1.0\n",
      "Penalty: elasticnet, Tolerance: 1e-06, Max Iterations: 100, Solver: saga, Accuracy: 87.02290076335878%, Recall: 0.0, Precision: 0.0, F1 Score: nan\n",
      "Penalty: elasticnet, Tolerance: 1e-06, Max Iterations: 500, Solver: saga, Accuracy: 88.37998303647159%, Recall: 0.0, Precision: 0.0, F1 Score: nan\n",
      "Penalty: elasticnet, Tolerance: 1e-06, Max Iterations: 1000, Solver: saga, Accuracy: 88.21034775233248%, Recall: 0.007194244604316547, Precision: 0.5, F1 Score: 0.014184397163120569\n",
      "Penalty: elasticnet, Tolerance: 1e-05, Max Iterations: 100, Solver: saga, Accuracy: 87.36217133163699%, Recall: 0.0, Precision: 0.0, F1 Score: nan\n",
      "Penalty: elasticnet, Tolerance: 1e-05, Max Iterations: 500, Solver: saga, Accuracy: 88.54961832061069%, Recall: 0.0, Precision: 0.0, F1 Score: nan\n",
      "Penalty: elasticnet, Tolerance: 1e-05, Max Iterations: 1000, Solver: saga, Accuracy: 87.95589482612384%, Recall: 0.0, Precision: 0.0, F1 Score: nan\n",
      "Penalty: elasticnet, Tolerance: 0.0001, Max Iterations: 100, Solver: saga, Accuracy: 88.21034775233248%, Recall: 0.0, Precision: 0.0, F1 Score: nan\n",
      "Penalty: elasticnet, Tolerance: 0.0001, Max Iterations: 500, Solver: saga, Accuracy: 88.21034775233248%, Recall: 0.0, Precision: 0.0, F1 Score: nan\n",
      "Penalty: elasticnet, Tolerance: 0.0001, Max Iterations: 1000, Solver: saga, Accuracy: 88.37998303647159%, Recall: 0.007246376811594203, Precision: 1.0, F1 Score: 0.014388489208633093\n"
     ]
    }
   ],
   "source": [
    "import warnings\n",
    "warnings.filterwarnings(\"ignore\")\n",
    "for i in hyperparameters['penalty']:\n",
    "    for j in hyperparameters['tol']:\n",
    "        for k in hyperparameters['max_iter']:\n",
    "            X_train, X_test, y_train, y_test = train_test_split(data, data['DEP_DELAY'], test_size=0.2)\n",
    "            solver = 'lbfgs'\n",
    "            if i == 'l1':\n",
    "                solver = 'liblinear'\n",
    "            elif i == 'elasticnet':\n",
    "                solver = 'saga'\n",
    "            elif i == 'l2':\n",
    "                solver = 'lbfgs'\n",
    "            # logmodel = LogisticRegression(penalty = i, tol = j, max_iter = k, solver = solver)\n",
    "            if (i == 'l1' or i == 'l2'):\n",
    "                logmodel = LogisticRegression(penalty = i, tol = j, max_iter = k, solver = solver)\n",
    "            else:\n",
    "                logmodel = LogisticRegression(penalty = i, tol = j, max_iter = k, solver = solver, l1_ratio = 0.5)\n",
    "            logmodel.fit(X_train, y_train)\n",
    "            y_pred = logmodel.predict(X_test)\n",
    "            accuracy = accuracy_score(y_test, y_pred)\n",
    "            recall = recall_score(y_test, y_pred)\n",
    "            precision = precision_score(y_test, y_pred)\n",
    "            f1_score = 2 * (precision * recall) / (precision + recall)\n",
    "            print(f\"Penalty: {i}, Tolerance: {j}, Max Iterations: {k}, Solver: {solver}, Accuracy: {accuracy*100}%, Recall: {recall}, Precision: {precision}, F1 Score: {f1_score}\")\n",
    "            # write into a csv file for saving results\n",
    "            with open('logistic_reg_results.csv', 'a') as f:\n",
    "                hyper_param = \"{Penalty = \" + str(i) + \" Tolerance = \" + str(j) + \" Max Iterations = \" + str(k) + \" Solver = \" + str(solver) + \"}\"\n",
    "                f.write(f\"Logistic Regression, 80-20, {accuracy*100}, {recall}, {precision}, {f1_score}, {hyper_param}\\n\")"
   ]
  },
  {
   "cell_type": "code",
   "execution_count": 13,
   "outputs": [],
   "source": [],
   "metadata": {
    "collapsed": false
   }
  }
 ],
 "metadata": {
  "kernelspec": {
   "display_name": "Python 3",
   "language": "python",
   "name": "python3"
  },
  "language_info": {
   "codemirror_mode": {
    "name": "ipython",
    "version": 3
   },
   "file_extension": ".py",
   "mimetype": "text/x-python",
   "name": "python",
   "nbconvert_exporter": "python",
   "pygments_lexer": "ipython3",
   "version": "3.11.5"
  }
 },
 "nbformat": 4,
 "nbformat_minor": 2
}
