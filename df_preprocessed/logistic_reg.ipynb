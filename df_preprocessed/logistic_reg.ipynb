{
 "cells": [
  {
   "cell_type": "code",
   "execution_count": 2,
   "metadata": {},
   "outputs": [
    {
     "name": "stdout",
     "output_type": "stream",
     "text": [
      "Requirement already satisfied: numpy in c:\\users\\prakh\\anaconda3\\lib\\site-packages (1.24.3)\n",
      "Requirement already satisfied: pandas in c:\\users\\prakh\\anaconda3\\lib\\site-packages (1.5.3)\n",
      "Requirement already satisfied: matplotlib in c:\\users\\prakh\\anaconda3\\lib\\site-packages (3.7.2)\n",
      "Requirement already satisfied: sklearn in c:\\users\\prakh\\anaconda3\\lib\\site-packages (0.0.post11)\n",
      "Requirement already satisfied: python-dateutil>=2.8.1 in c:\\users\\prakh\\anaconda3\\lib\\site-packages (from pandas) (2.8.2)\n",
      "Requirement already satisfied: pytz>=2020.1 in c:\\users\\prakh\\anaconda3\\lib\\site-packages (from pandas) (2023.3.post1)\n",
      "Requirement already satisfied: contourpy>=1.0.1 in c:\\users\\prakh\\anaconda3\\lib\\site-packages (from matplotlib) (1.0.5)\n",
      "Requirement already satisfied: cycler>=0.10 in c:\\users\\prakh\\anaconda3\\lib\\site-packages (from matplotlib) (0.11.0)\n",
      "Requirement already satisfied: fonttools>=4.22.0 in c:\\users\\prakh\\anaconda3\\lib\\site-packages (from matplotlib) (4.25.0)\n",
      "Requirement already satisfied: kiwisolver>=1.0.1 in c:\\users\\prakh\\anaconda3\\lib\\site-packages (from matplotlib) (1.4.4)\n",
      "Requirement already satisfied: packaging>=20.0 in c:\\users\\prakh\\anaconda3\\lib\\site-packages (from matplotlib) (23.1)\n",
      "Requirement already satisfied: pillow>=6.2.0 in c:\\users\\prakh\\anaconda3\\lib\\site-packages (from matplotlib) (10.0.1)\n",
      "Requirement already satisfied: pyparsing<3.1,>=2.3.1 in c:\\users\\prakh\\anaconda3\\lib\\site-packages (from matplotlib) (3.0.9)\n",
      "Requirement already satisfied: six>=1.5 in c:\\users\\prakh\\anaconda3\\lib\\site-packages (from python-dateutil>=2.8.1->pandas) (1.16.0)\n"
     ]
    }
   ],
   "source": [
    "!pip install numpy pandas matplotlib sklearn"
   ]
  },
  {
   "cell_type": "code",
   "execution_count": 3,
   "metadata": {},
   "outputs": [
    {
     "data": {
      "text/plain": [
       "RandomState(MT19937) at 0x1CF9B061840"
      ]
     },
     "execution_count": 3,
     "metadata": {},
     "output_type": "execute_result"
    }
   ],
   "source": [
    "import numpy as np\n",
    "import pandas as pd\n",
    "import matplotlib.pyplot as plt\n",
    "from sklearn.metrics import confusion_matrix, classification_report, accuracy_score, recall_score, precision_score, f1_score\n",
    "from sklearn.linear_model import LogisticRegression\n",
    "from sklearn.model_selection import train_test_split\n",
    "# fix a random seed\n",
    "np.random.seed(42)\n",
    "import sklearn\n",
    "sklearn.utils.check_random_state(42)"
   ]
  },
  {
   "cell_type": "code",
   "execution_count": 4,
   "metadata": {},
   "outputs": [
    {
     "name": "stdout",
     "output_type": "stream",
     "text": [
      "c:\\Users\\prakh\\OneDrive\\Documents\\GitHub\\Delayma-Models\n",
      "c:\\Users\\prakh\\OneDrive\\Documents\\GitHub\\Delayma-Models\\df_preprocessed\n"
     ]
    }
   ],
   "source": [
    "%cd ..\n",
    "data = pd.read_csv('Datasets/df_1_3.csv')\n",
    "data.head()\n",
    "%cd df_preprocessed"
   ]
  },
  {
   "cell_type": "code",
   "execution_count": 5,
   "metadata": {},
   "outputs": [
    {
     "name": "stdout",
     "output_type": "stream",
     "text": [
      "Index(['MONTH', 'DAY_OF_MONTH', 'DAY_OF_WEEK', 'OP_UNIQUE_CARRIER', 'DEST',\n",
      "       'DEP_DELAY', 'CRS_ELAPSED_TIME', 'DISTANCE', 'CRS_DEP_M', 'DEP_TIME_M',\n",
      "       'CRS_ARR_M', 'Temperature', 'Dew Point', 'Humidity', 'Wind',\n",
      "       'Wind Speed', 'Wind Gust', 'Pressure', 'sch_dep', 'sch_arr', 'TAXI_OUT',\n",
      "       'Cloudy', 'Windy', 'Fair', 'Rain', 'Fog', 'Drizzle', 'Snow',\n",
      "       'Wintry Mix', 'Freezing Rain', 'MONTH_sin', 'MONTH_cos',\n",
      "       'DAY_OF_MONTH_sin', 'DAY_OF_MONTH_cos', 'DAY_OF_WEEK_sin',\n",
      "       'DAY_OF_WEEK_cos'],\n",
      "      dtype='object')\n"
     ]
    }
   ],
   "source": [
    "# print columns\n",
    "print(data.columns)\n",
    "# drop MONTH, DAY_OF_MONTH, DAY_OF_WEEK\n",
    "data.drop(['MONTH', 'DAY_OF_MONTH', 'DAY_OF_WEEK'], axis=1, inplace=True)"
   ]
  },
  {
   "cell_type": "code",
   "execution_count": 6,
   "metadata": {},
   "outputs": [],
   "source": [
    "hyperparameters = {\n",
    "    'penalty' : ['l1', 'l2', 'elasticnet'],\n",
    "    'tol' : [1e-6, 1e-5, 1e-4],\n",
    "    'max_iter' : [100, 500, 1000]\n",
    "}"
   ]
  },
  {
   "cell_type": "code",
   "execution_count": 7,
   "metadata": {},
   "outputs": [
    {
     "name": "stdout",
     "output_type": "stream",
     "text": [
      "Penalty: l1, Tolerance: 1e-06, Max Iterations: 100, Solver: liblinear, Accuracy: 100.0%, Recall: 1.0, Precision: 1.0, F1 Score: 1.0\n",
      "Penalty: l1, Tolerance: 1e-06, Max Iterations: 500, Solver: liblinear, Accuracy: 100.0%, Recall: 1.0, Precision: 1.0, F1 Score: 1.0\n",
      "Penalty: l1, Tolerance: 1e-06, Max Iterations: 1000, Solver: liblinear, Accuracy: 100.0%, Recall: 1.0, Precision: 1.0, F1 Score: 1.0\n",
      "Penalty: l1, Tolerance: 1e-05, Max Iterations: 100, Solver: liblinear, Accuracy: 100.0%, Recall: 1.0, Precision: 1.0, F1 Score: 1.0\n",
      "Penalty: l1, Tolerance: 1e-05, Max Iterations: 500, Solver: liblinear, Accuracy: 100.0%, Recall: 1.0, Precision: 1.0, F1 Score: 1.0\n",
      "Penalty: l1, Tolerance: 1e-05, Max Iterations: 1000, Solver: liblinear, Accuracy: 100.0%, Recall: 1.0, Precision: 1.0, F1 Score: 1.0\n",
      "Penalty: l1, Tolerance: 0.0001, Max Iterations: 100, Solver: liblinear, Accuracy: 100.0%, Recall: 1.0, Precision: 1.0, F1 Score: 1.0\n",
      "Penalty: l1, Tolerance: 0.0001, Max Iterations: 500, Solver: liblinear, Accuracy: 100.0%, Recall: 1.0, Precision: 1.0, F1 Score: 1.0\n",
      "Penalty: l1, Tolerance: 0.0001, Max Iterations: 1000, Solver: liblinear, Accuracy: 100.0%, Recall: 1.0, Precision: 1.0, F1 Score: 1.0\n",
      "Penalty: l2, Tolerance: 1e-06, Max Iterations: 100, Solver: lbfgs, Accuracy: 88.21034775233248%, Recall: 0.03546099290780142, Precision: 0.625, F1 Score: 0.06711409395973154\n"
     ]
    },
    {
     "name": "stderr",
     "output_type": "stream",
     "text": [
      "c:\\Users\\prakh\\anaconda3\\Lib\\site-packages\\sklearn\\linear_model\\_logistic.py:460: ConvergenceWarning: lbfgs failed to converge (status=1):\n",
      "STOP: TOTAL NO. of ITERATIONS REACHED LIMIT.\n",
      "\n",
      "Increase the number of iterations (max_iter) or scale the data as shown in:\n",
      "    https://scikit-learn.org/stable/modules/preprocessing.html\n",
      "Please also refer to the documentation for alternative solver options:\n",
      "    https://scikit-learn.org/stable/modules/linear_model.html#logistic-regression\n",
      "  n_iter_i = _check_optimize_result(\n",
      "c:\\Users\\prakh\\anaconda3\\Lib\\site-packages\\sklearn\\linear_model\\_logistic.py:460: ConvergenceWarning: lbfgs failed to converge (status=1):\n",
      "STOP: TOTAL NO. of ITERATIONS REACHED LIMIT.\n",
      "\n",
      "Increase the number of iterations (max_iter) or scale the data as shown in:\n",
      "    https://scikit-learn.org/stable/modules/preprocessing.html\n",
      "Please also refer to the documentation for alternative solver options:\n",
      "    https://scikit-learn.org/stable/modules/linear_model.html#logistic-regression\n",
      "  n_iter_i = _check_optimize_result(\n"
     ]
    },
    {
     "name": "stdout",
     "output_type": "stream",
     "text": [
      "Penalty: l2, Tolerance: 1e-06, Max Iterations: 500, Solver: lbfgs, Accuracy: 97.54028837998302%, Recall: 0.8057553956834532, Precision: 0.9824561403508771, F1 Score: 0.8853754940711464\n"
     ]
    },
    {
     "name": "stderr",
     "output_type": "stream",
     "text": [
      "c:\\Users\\prakh\\anaconda3\\Lib\\site-packages\\sklearn\\linear_model\\_logistic.py:460: ConvergenceWarning: lbfgs failed to converge (status=1):\n",
      "STOP: TOTAL NO. of ITERATIONS REACHED LIMIT.\n",
      "\n",
      "Increase the number of iterations (max_iter) or scale the data as shown in:\n",
      "    https://scikit-learn.org/stable/modules/preprocessing.html\n",
      "Please also refer to the documentation for alternative solver options:\n",
      "    https://scikit-learn.org/stable/modules/linear_model.html#logistic-regression\n",
      "  n_iter_i = _check_optimize_result(\n",
      "c:\\Users\\prakh\\anaconda3\\Lib\\site-packages\\sklearn\\linear_model\\_logistic.py:460: ConvergenceWarning: lbfgs failed to converge (status=1):\n",
      "STOP: TOTAL NO. of ITERATIONS REACHED LIMIT.\n",
      "\n",
      "Increase the number of iterations (max_iter) or scale the data as shown in:\n",
      "    https://scikit-learn.org/stable/modules/preprocessing.html\n",
      "Please also refer to the documentation for alternative solver options:\n",
      "    https://scikit-learn.org/stable/modules/linear_model.html#logistic-regression\n",
      "  n_iter_i = _check_optimize_result(\n"
     ]
    },
    {
     "name": "stdout",
     "output_type": "stream",
     "text": [
      "Penalty: l2, Tolerance: 1e-06, Max Iterations: 1000, Solver: lbfgs, Accuracy: 100.0%, Recall: 1.0, Precision: 1.0, F1 Score: 1.0\n",
      "Penalty: l2, Tolerance: 1e-05, Max Iterations: 100, Solver: lbfgs, Accuracy: 89.14334181509754%, Recall: 0.030534351145038167, Precision: 0.8, F1 Score: 0.0588235294117647\n"
     ]
    },
    {
     "name": "stderr",
     "output_type": "stream",
     "text": [
      "c:\\Users\\prakh\\anaconda3\\Lib\\site-packages\\sklearn\\linear_model\\_logistic.py:460: ConvergenceWarning: lbfgs failed to converge (status=1):\n",
      "STOP: TOTAL NO. of ITERATIONS REACHED LIMIT.\n",
      "\n",
      "Increase the number of iterations (max_iter) or scale the data as shown in:\n",
      "    https://scikit-learn.org/stable/modules/preprocessing.html\n",
      "Please also refer to the documentation for alternative solver options:\n",
      "    https://scikit-learn.org/stable/modules/linear_model.html#logistic-regression\n",
      "  n_iter_i = _check_optimize_result(\n"
     ]
    },
    {
     "name": "stdout",
     "output_type": "stream",
     "text": [
      "Penalty: l2, Tolerance: 1e-05, Max Iterations: 500, Solver: lbfgs, Accuracy: 96.01357082273113%, Recall: 0.7707006369426752, Precision: 0.9166666666666666, F1 Score: 0.8373702422145329\n"
     ]
    },
    {
     "name": "stderr",
     "output_type": "stream",
     "text": [
      "c:\\Users\\prakh\\anaconda3\\Lib\\site-packages\\sklearn\\linear_model\\_logistic.py:460: ConvergenceWarning: lbfgs failed to converge (status=1):\n",
      "STOP: TOTAL NO. of ITERATIONS REACHED LIMIT.\n",
      "\n",
      "Increase the number of iterations (max_iter) or scale the data as shown in:\n",
      "    https://scikit-learn.org/stable/modules/preprocessing.html\n",
      "Please also refer to the documentation for alternative solver options:\n",
      "    https://scikit-learn.org/stable/modules/linear_model.html#logistic-regression\n",
      "  n_iter_i = _check_optimize_result(\n",
      "c:\\Users\\prakh\\anaconda3\\Lib\\site-packages\\sklearn\\linear_model\\_logistic.py:460: ConvergenceWarning: lbfgs failed to converge (status=1):\n",
      "STOP: TOTAL NO. of ITERATIONS REACHED LIMIT.\n",
      "\n",
      "Increase the number of iterations (max_iter) or scale the data as shown in:\n",
      "    https://scikit-learn.org/stable/modules/preprocessing.html\n",
      "Please also refer to the documentation for alternative solver options:\n",
      "    https://scikit-learn.org/stable/modules/linear_model.html#logistic-regression\n",
      "  n_iter_i = _check_optimize_result(\n",
      "c:\\Users\\prakh\\anaconda3\\Lib\\site-packages\\sklearn\\linear_model\\_logistic.py:460: ConvergenceWarning: lbfgs failed to converge (status=1):\n",
      "STOP: TOTAL NO. of ITERATIONS REACHED LIMIT.\n",
      "\n",
      "Increase the number of iterations (max_iter) or scale the data as shown in:\n",
      "    https://scikit-learn.org/stable/modules/preprocessing.html\n",
      "Please also refer to the documentation for alternative solver options:\n",
      "    https://scikit-learn.org/stable/modules/linear_model.html#logistic-regression\n",
      "  n_iter_i = _check_optimize_result(\n"
     ]
    },
    {
     "name": "stdout",
     "output_type": "stream",
     "text": [
      "Penalty: l2, Tolerance: 1e-05, Max Iterations: 1000, Solver: lbfgs, Accuracy: 100.0%, Recall: 1.0, Precision: 1.0, F1 Score: 1.0\n",
      "Penalty: l2, Tolerance: 0.0001, Max Iterations: 100, Solver: lbfgs, Accuracy: 89.05852417302799%, Recall: 0.030534351145038167, Precision: 0.6666666666666666, F1 Score: 0.0583941605839416\n",
      "Penalty: l2, Tolerance: 0.0001, Max Iterations: 500, Solver: lbfgs, Accuracy: 95.84393553859204%, Recall: 0.7022900763358778, Precision: 0.9019607843137255, F1 Score: 0.7896995708154506\n"
     ]
    },
    {
     "name": "stderr",
     "output_type": "stream",
     "text": [
      "c:\\Users\\prakh\\anaconda3\\Lib\\site-packages\\sklearn\\linear_model\\_logistic.py:460: ConvergenceWarning: lbfgs failed to converge (status=1):\n",
      "STOP: TOTAL NO. of ITERATIONS REACHED LIMIT.\n",
      "\n",
      "Increase the number of iterations (max_iter) or scale the data as shown in:\n",
      "    https://scikit-learn.org/stable/modules/preprocessing.html\n",
      "Please also refer to the documentation for alternative solver options:\n",
      "    https://scikit-learn.org/stable/modules/linear_model.html#logistic-regression\n",
      "  n_iter_i = _check_optimize_result(\n"
     ]
    },
    {
     "name": "stdout",
     "output_type": "stream",
     "text": [
      "Penalty: l2, Tolerance: 0.0001, Max Iterations: 1000, Solver: lbfgs, Accuracy: 100.0%, Recall: 1.0, Precision: 1.0, F1 Score: 1.0\n"
     ]
    },
    {
     "name": "stderr",
     "output_type": "stream",
     "text": [
      "c:\\Users\\prakh\\anaconda3\\Lib\\site-packages\\sklearn\\linear_model\\_sag.py:350: ConvergenceWarning: The max_iter was reached which means the coef_ did not converge\n",
      "  warnings.warn(\n"
     ]
    },
    {
     "name": "stdout",
     "output_type": "stream",
     "text": [
      "Penalty: elasticnet, Tolerance: 1e-06, Max Iterations: 100, Solver: saga, Accuracy: 87.53180661577609%, Recall: 0.0392156862745098, Precision: 1.0, F1 Score: 0.07547169811320754\n"
     ]
    },
    {
     "name": "stderr",
     "output_type": "stream",
     "text": [
      "c:\\Users\\prakh\\anaconda3\\Lib\\site-packages\\sklearn\\linear_model\\_sag.py:350: ConvergenceWarning: The max_iter was reached which means the coef_ did not converge\n",
      "  warnings.warn(\n"
     ]
    },
    {
     "name": "stdout",
     "output_type": "stream",
     "text": [
      "Penalty: elasticnet, Tolerance: 1e-06, Max Iterations: 500, Solver: saga, Accuracy: 88.46480067854114%, Recall: 0.007352941176470588, Precision: 0.5, F1 Score: 0.014492753623188406\n"
     ]
    },
    {
     "name": "stderr",
     "output_type": "stream",
     "text": [
      "c:\\Users\\prakh\\anaconda3\\Lib\\site-packages\\sklearn\\linear_model\\_sag.py:350: ConvergenceWarning: The max_iter was reached which means the coef_ did not converge\n",
      "  warnings.warn(\n"
     ]
    },
    {
     "name": "stdout",
     "output_type": "stream",
     "text": [
      "Penalty: elasticnet, Tolerance: 1e-06, Max Iterations: 1000, Solver: saga, Accuracy: 88.04071246819338%, Recall: 0.007194244604316547, Precision: 0.25, F1 Score: 0.013986013986013986\n"
     ]
    },
    {
     "name": "stderr",
     "output_type": "stream",
     "text": [
      "c:\\Users\\prakh\\anaconda3\\Lib\\site-packages\\sklearn\\linear_model\\_sag.py:350: ConvergenceWarning: The max_iter was reached which means the coef_ did not converge\n",
      "  warnings.warn(\n",
      "c:\\Users\\prakh\\anaconda3\\Lib\\site-packages\\sklearn\\metrics\\_classification.py:1469: UndefinedMetricWarning: Precision is ill-defined and being set to 0.0 due to no predicted samples. Use `zero_division` parameter to control this behavior.\n",
      "  _warn_prf(average, modifier, msg_start, len(result))\n",
      "C:\\Users\\prakh\\AppData\\Local\\Temp\\ipykernel_13748\\881021036.py:22: RuntimeWarning: invalid value encountered in scalar divide\n",
      "  f1_score = 2 * (precision * recall) / (precision + recall)\n"
     ]
    },
    {
     "name": "stdout",
     "output_type": "stream",
     "text": [
      "Penalty: elasticnet, Tolerance: 1e-05, Max Iterations: 100, Solver: saga, Accuracy: 87.36217133163699%, Recall: 0.0, Precision: 0.0, F1 Score: nan\n"
     ]
    },
    {
     "name": "stderr",
     "output_type": "stream",
     "text": [
      "c:\\Users\\prakh\\anaconda3\\Lib\\site-packages\\sklearn\\linear_model\\_sag.py:350: ConvergenceWarning: The max_iter was reached which means the coef_ did not converge\n",
      "  warnings.warn(\n",
      "c:\\Users\\prakh\\anaconda3\\Lib\\site-packages\\sklearn\\metrics\\_classification.py:1469: UndefinedMetricWarning: Precision is ill-defined and being set to 0.0 due to no predicted samples. Use `zero_division` parameter to control this behavior.\n",
      "  _warn_prf(average, modifier, msg_start, len(result))\n",
      "C:\\Users\\prakh\\AppData\\Local\\Temp\\ipykernel_13748\\881021036.py:22: RuntimeWarning: invalid value encountered in scalar divide\n",
      "  f1_score = 2 * (precision * recall) / (precision + recall)\n"
     ]
    },
    {
     "name": "stdout",
     "output_type": "stream",
     "text": [
      "Penalty: elasticnet, Tolerance: 1e-05, Max Iterations: 500, Solver: saga, Accuracy: 88.54961832061069%, Recall: 0.0, Precision: 0.0, F1 Score: nan\n"
     ]
    },
    {
     "name": "stderr",
     "output_type": "stream",
     "text": [
      "c:\\Users\\prakh\\anaconda3\\Lib\\site-packages\\sklearn\\linear_model\\_sag.py:350: ConvergenceWarning: The max_iter was reached which means the coef_ did not converge\n",
      "  warnings.warn(\n",
      "C:\\Users\\prakh\\AppData\\Local\\Temp\\ipykernel_13748\\881021036.py:22: RuntimeWarning: invalid value encountered in scalar divide\n",
      "  f1_score = 2 * (precision * recall) / (precision + recall)\n"
     ]
    },
    {
     "name": "stdout",
     "output_type": "stream",
     "text": [
      "Penalty: elasticnet, Tolerance: 1e-05, Max Iterations: 1000, Solver: saga, Accuracy: 87.87107718405429%, Recall: 0.0, Precision: 0.0, F1 Score: nan\n"
     ]
    },
    {
     "name": "stderr",
     "output_type": "stream",
     "text": [
      "c:\\Users\\prakh\\anaconda3\\Lib\\site-packages\\sklearn\\linear_model\\_sag.py:350: ConvergenceWarning: The max_iter was reached which means the coef_ did not converge\n",
      "  warnings.warn(\n"
     ]
    },
    {
     "name": "stdout",
     "output_type": "stream",
     "text": [
      "Penalty: elasticnet, Tolerance: 0.0001, Max Iterations: 100, Solver: saga, Accuracy: 88.29516539440203%, Recall: 0.007194244604316547, Precision: 1.0, F1 Score: 0.014285714285714287\n"
     ]
    },
    {
     "name": "stderr",
     "output_type": "stream",
     "text": [
      "c:\\Users\\prakh\\anaconda3\\Lib\\site-packages\\sklearn\\linear_model\\_sag.py:350: ConvergenceWarning: The max_iter was reached which means the coef_ did not converge\n",
      "  warnings.warn(\n",
      "c:\\Users\\prakh\\anaconda3\\Lib\\site-packages\\sklearn\\metrics\\_classification.py:1469: UndefinedMetricWarning: Precision is ill-defined and being set to 0.0 due to no predicted samples. Use `zero_division` parameter to control this behavior.\n",
      "  _warn_prf(average, modifier, msg_start, len(result))\n",
      "C:\\Users\\prakh\\AppData\\Local\\Temp\\ipykernel_13748\\881021036.py:22: RuntimeWarning: invalid value encountered in scalar divide\n",
      "  f1_score = 2 * (precision * recall) / (precision + recall)\n"
     ]
    },
    {
     "name": "stdout",
     "output_type": "stream",
     "text": [
      "Penalty: elasticnet, Tolerance: 0.0001, Max Iterations: 500, Solver: saga, Accuracy: 88.21034775233248%, Recall: 0.0, Precision: 0.0, F1 Score: nan\n",
      "Penalty: elasticnet, Tolerance: 0.0001, Max Iterations: 1000, Solver: saga, Accuracy: 88.7192536047498%, Recall: 0.036231884057971016, Precision: 1.0, F1 Score: 0.06993006993006994\n"
     ]
    },
    {
     "name": "stderr",
     "output_type": "stream",
     "text": [
      "c:\\Users\\prakh\\anaconda3\\Lib\\site-packages\\sklearn\\linear_model\\_sag.py:350: ConvergenceWarning: The max_iter was reached which means the coef_ did not converge\n",
      "  warnings.warn(\n"
     ]
    }
   ],
   "source": [
    "for i in hyperparameters['penalty']:\n",
    "    for j in hyperparameters['tol']:\n",
    "        for k in hyperparameters['max_iter']:\n",
    "            X_train, X_test, y_train, y_test = train_test_split(data, data['DEP_DELAY'], test_size=0.2)\n",
    "            solver = 'lbfgs'\n",
    "            if i == 'l1':\n",
    "                solver = 'liblinear'\n",
    "            elif i == 'elasticnet':\n",
    "                solver = 'saga'\n",
    "            elif i == 'l2':\n",
    "                solver = 'lbfgs'\n",
    "            # logmodel = LogisticRegression(penalty = i, tol = j, max_iter = k, solver = solver)\n",
    "            if (i == 'l1' or i == 'l2'):\n",
    "                logmodel = LogisticRegression(penalty = i, tol = j, max_iter = k, solver = solver)\n",
    "            else:\n",
    "                logmodel = LogisticRegression(penalty = i, tol = j, max_iter = k, solver = solver, l1_ratio = 0.5)\n",
    "            logmodel.fit(X_train, y_train)\n",
    "            y_pred = logmodel.predict(X_test)\n",
    "            accuracy = accuracy_score(y_test, y_pred)\n",
    "            recall = recall_score(y_test, y_pred)\n",
    "            precision = precision_score(y_test, y_pred)\n",
    "            f1_score = 2 * (precision * recall) / (precision + recall)\n",
    "            print(f\"Penalty: {i}, Tolerance: {j}, Max Iterations: {k}, Solver: {solver}, Accuracy: {accuracy*100}%, Recall: {recall}, Precision: {precision}, F1 Score: {f1_score}\")\n",
    "            # write into a csv file for saving results\n",
    "            with open('logistic_reg_results_df_1_3.csv', 'a') as f:\n",
    "                hyper_param = \"{Penalty = \" + str(i) + \" Tolerance = \" + str(j) + \" Max Iterations = \" + str(k) + \" Solver = \" + str(solver) + \"}\"\n",
    "                f.write(f\"Logistic Regression, 80-20, {accuracy*100}, {recall}, {precision}, {f1_score}, {hyper_param}\\n\")"
   ]
  }
 ],
 "metadata": {
  "kernelspec": {
   "display_name": "Python 3",
   "language": "python",
   "name": "python3"
  },
  "language_info": {
   "codemirror_mode": {
    "name": "ipython",
    "version": 3
   },
   "file_extension": ".py",
   "mimetype": "text/x-python",
   "name": "python",
   "nbconvert_exporter": "python",
   "pygments_lexer": "ipython3",
   "version": "3.11.5"
  }
 },
 "nbformat": 4,
 "nbformat_minor": 2
}
