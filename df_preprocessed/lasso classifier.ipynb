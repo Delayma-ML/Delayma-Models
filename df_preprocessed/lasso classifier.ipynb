{
 "cells": [
  {
   "cell_type": "code",
   "execution_count": 1,
   "metadata": {},
   "outputs": [
    {
     "name": "stdout",
     "output_type": "stream",
     "text": [
      "Requirement already satisfied: numpy in c:\\users\\vartika\\appdata\\local\\programs\\python\\python310\\lib\\site-packages (1.24.4)\n",
      "Requirement already satisfied: pandas in c:\\users\\vartika\\appdata\\local\\programs\\python\\python310\\lib\\site-packages (1.5.3)\n",
      "Requirement already satisfied: matplotlib in c:\\users\\vartika\\appdata\\local\\programs\\python\\python310\\lib\\site-packages (3.5.2)\n",
      "Collecting sklearn\n",
      "  Using cached sklearn-0.0.post12.tar.gz (2.6 kB)\n",
      "  Preparing metadata (setup.py): started\n",
      "  Preparing metadata (setup.py): finished with status 'error'\n"
     ]
    },
    {
     "name": "stderr",
     "output_type": "stream",
     "text": [
      "WARNING: Ignoring invalid distribution -illow (c:\\users\\vartika\\appdata\\local\\programs\\python\\python310\\lib\\site-packages)\n",
      "WARNING: Ignoring invalid distribution -rotobuf (c:\\users\\vartika\\appdata\\local\\programs\\python\\python310\\lib\\site-packages)\n",
      "  error: subprocess-exited-with-error\n",
      "  \n",
      "  python setup.py egg_info did not run successfully.\n",
      "  exit code: 1\n",
      "  \n",
      "  [15 lines of output]\n",
      "  The 'sklearn' PyPI package is deprecated, use 'scikit-learn'\n",
      "  rather than 'sklearn' for pip commands.\n",
      "  \n",
      "  Here is how to fix this error in the main use cases:\n",
      "  - use 'pip install scikit-learn' rather than 'pip install sklearn'\n",
      "  - replace 'sklearn' by 'scikit-learn' in your pip requirements files\n",
      "    (requirements.txt, setup.py, setup.cfg, Pipfile, etc ...)\n",
      "  - if the 'sklearn' package is used by one of your dependencies,\n",
      "    it would be great if you take some time to track which package uses\n",
      "    'sklearn' instead of 'scikit-learn' and report it to their issue tracker\n",
      "  - as a last resort, set the environment variable\n",
      "    SKLEARN_ALLOW_DEPRECATED_SKLEARN_PACKAGE_INSTALL=True to avoid this error\n",
      "  \n",
      "  More information is available at\n",
      "  https://github.com/scikit-learn/sklearn-pypi-package\n",
      "  [end of output]\n",
      "  \n",
      "  note: This error originates from a subprocess, and is likely not a problem with pip.\n",
      "error: metadata-generation-failed\n",
      "\n",
      "Encountered error while generating package metadata.\n",
      "\n",
      "See above for output.\n",
      "\n",
      "note: This is an issue with the package mentioned above, not pip.\n",
      "hint: See above for details.\n",
      "\n",
      "[notice] A new release of pip is available: 23.1.2 -> 23.3.2\n",
      "[notice] To update, run: C:\\Users\\Vartika\\AppData\\Local\\Programs\\Python\\Python310\\python.exe -m pip install --upgrade pip\n"
     ]
    }
   ],
   "source": [
    "!pip install numpy pandas matplotlib sklearn"
   ]
  },
  {
   "cell_type": "code",
   "execution_count": 2,
   "metadata": {},
   "outputs": [
    {
     "data": {
      "text/plain": "RandomState(MT19937) at 0x24AD7B78240"
     },
     "execution_count": 2,
     "metadata": {},
     "output_type": "execute_result"
    }
   ],
   "source": [
    "import numpy as np\n",
    "import pandas as pd\n",
    "import matplotlib.pyplot as plt\n",
    "from sklearn.metrics import confusion_matrix, classification_report, accuracy_score, recall_score, precision_score, f1_score\n",
    "from sklearn.linear_model import Lasso\n",
    "from sklearn.model_selection import train_test_split\n",
    "# fix a random seed\n",
    "np.random.seed(42)\n",
    "import sklearn\n",
    "sklearn.utils.check_random_state(42)"
   ]
  },
  {
   "cell_type": "code",
   "execution_count": 3,
   "metadata": {},
   "outputs": [
    {
     "name": "stdout",
     "output_type": "stream",
     "text": [
      "C:\\Users\\Vartika\\Documents\\GitHub\\Delayma-Models\n",
      "C:\\Users\\Vartika\\Documents\\GitHub\\Delayma-Models\\df_preprocessed\n"
     ]
    }
   ],
   "source": [
    "%cd ..\n",
    "data = pd.read_csv('Datasets/df_preprocessed.csv')\n",
    "data.head()\n",
    "%cd df_preprocessed"
   ]
  },
  {
   "cell_type": "code",
   "execution_count": 4,
   "metadata": {},
   "outputs": [
    {
     "name": "stdout",
     "output_type": "stream",
     "text": [
      "Index(['Unnamed: 0', 'MONTH', 'DAY_OF_MONTH', 'DAY_OF_WEEK',\n",
      "       'OP_UNIQUE_CARRIER', 'DEST', 'DEP_DELAY', 'CRS_ELAPSED_TIME',\n",
      "       'DISTANCE', 'CRS_DEP_M', 'CRS_ARR_M', 'Temperature', 'Dew Point',\n",
      "       'Humidity', 'Wind', 'Wind Speed', 'Wind Gust', 'Pressure', 'sch_dep',\n",
      "       'sch_arr', 'TAXI_OUT', 'Cloudy', 'Windy', 'Fair', 'Rain', 'Fog',\n",
      "       'Drizzle', 'Snow', 'Wintry Mix', 'Freezing Rain', 'MONTH_sin',\n",
      "       'MONTH_cos', 'DAY_OF_MONTH_sin', 'DAY_OF_MONTH_cos', 'DAY_OF_WEEK_sin',\n",
      "       'DAY_OF_WEEK_cos'],\n",
      "      dtype='object')\n"
     ]
    }
   ],
   "source": [
    "# print columns\n",
    "print(data.columns)\n",
    "# drop MONTH, DAY_OF_MONTH, DAY_OF_WEEK\n",
    "data.drop(['MONTH', 'DAY_OF_MONTH', 'DAY_OF_WEEK'], axis=1, inplace=True)"
   ]
  },
  {
   "cell_type": "code",
   "execution_count": 5,
   "metadata": {},
   "outputs": [],
   "source": [
    "hyperparameters = {\n",
    "    'alpha': [1e-4, 1e-2, 1e-2, 1e-1],\n",
    "    'max_iter': [1000, 500, 100]\n",
    "}"
   ]
  },
  {
   "cell_type": "code",
   "execution_count": 6,
   "metadata": {},
   "outputs": [
    {
     "name": "stdout",
     "output_type": "stream",
     "text": [
      "Alpha: 0.0001, Max Iterations: 1000, Accuracy: 1.0, Recall: 1.0, Precision: 1.0, F1 Score: 1.0\n",
      "Alpha: 0.0001, Max Iterations: 500, Accuracy: 1.0, Recall: 1.0, Precision: 1.0, F1 Score: 1.0\n",
      "Alpha: 0.0001, Max Iterations: 100, Accuracy: 1.0, Recall: 1.0, Precision: 1.0, F1 Score: 1.0\n",
      "Alpha: 0.01, Max Iterations: 1000, Accuracy: 1.0, Recall: 1.0, Precision: 1.0, F1 Score: 1.0\n",
      "Alpha: 0.01, Max Iterations: 500, Accuracy: 1.0, Recall: 1.0, Precision: 1.0, F1 Score: 1.0\n",
      "Alpha: 0.01, Max Iterations: 100, Accuracy: 1.0, Recall: 1.0, Precision: 1.0, F1 Score: 1.0\n",
      "Alpha: 0.01, Max Iterations: 1000, Accuracy: 1.0, Recall: 1.0, Precision: 1.0, F1 Score: 1.0\n",
      "Alpha: 0.01, Max Iterations: 500, Accuracy: 1.0, Recall: 1.0, Precision: 1.0, F1 Score: 1.0\n",
      "Alpha: 0.01, Max Iterations: 100, Accuracy: 1.0, Recall: 1.0, Precision: 1.0, F1 Score: 1.0\n",
      "Alpha: 0.1, Max Iterations: 1000, Accuracy: 0.864677307425399, Recall: 0.0, Precision: 0.0, F1 Score: nan\n"
     ]
    },
    {
     "name": "stderr",
     "output_type": "stream",
     "text": [
      "C:\\Users\\Vartika\\AppData\\Local\\Programs\\Python\\Python310\\lib\\site-packages\\sklearn\\metrics\\_classification.py:1469: UndefinedMetricWarning: Precision is ill-defined and being set to 0.0 due to no predicted samples. Use `zero_division` parameter to control this behavior.\n",
      "  _warn_prf(average, modifier, msg_start, len(result))\n",
      "C:\\Users\\Vartika\\AppData\\Local\\Temp\\ipykernel_28060\\1487124835.py:10: RuntimeWarning: invalid value encountered in scalar divide\n",
      "  f1 = 2 * (precision * recall) / (precision + recall)\n",
      "C:\\Users\\Vartika\\AppData\\Local\\Programs\\Python\\Python310\\lib\\site-packages\\sklearn\\metrics\\_classification.py:1469: UndefinedMetricWarning: Precision is ill-defined and being set to 0.0 due to no predicted samples. Use `zero_division` parameter to control this behavior.\n",
      "  _warn_prf(average, modifier, msg_start, len(result))\n",
      "C:\\Users\\Vartika\\AppData\\Local\\Temp\\ipykernel_28060\\1487124835.py:10: RuntimeWarning: invalid value encountered in scalar divide\n",
      "  f1 = 2 * (precision * recall) / (precision + recall)\n"
     ]
    },
    {
     "name": "stdout",
     "output_type": "stream",
     "text": [
      "Alpha: 0.1, Max Iterations: 500, Accuracy: 0.8688410825815406, Recall: 0.0, Precision: 0.0, F1 Score: nan\n",
      "Alpha: 0.1, Max Iterations: 100, Accuracy: 0.868147120055517, Recall: 0.0, Precision: 0.0, F1 Score: nan\n"
     ]
    },
    {
     "name": "stderr",
     "output_type": "stream",
     "text": [
      "C:\\Users\\Vartika\\AppData\\Local\\Programs\\Python\\Python310\\lib\\site-packages\\sklearn\\metrics\\_classification.py:1469: UndefinedMetricWarning: Precision is ill-defined and being set to 0.0 due to no predicted samples. Use `zero_division` parameter to control this behavior.\n",
      "  _warn_prf(average, modifier, msg_start, len(result))\n",
      "C:\\Users\\Vartika\\AppData\\Local\\Temp\\ipykernel_28060\\1487124835.py:10: RuntimeWarning: invalid value encountered in scalar divide\n",
      "  f1 = 2 * (precision * recall) / (precision + recall)\n"
     ]
    }
   ],
   "source": [
    "for i in hyperparameters['alpha']:\n",
    "    for j in hyperparameters['max_iter']:\n",
    "        X_train, X_test, y_train, y_test = train_test_split(data, data['DEP_DELAY'], test_size=0.2)\n",
    "        classifier = Lasso(alpha=i, max_iter=j)\n",
    "        classifier.fit(X_train, y_train)\n",
    "        predictions = classifier.predict(X_test)\n",
    "        accuracy = accuracy_score(y_test, predictions.round())\n",
    "        recall = recall_score(y_test, predictions.round())\n",
    "        precision = precision_score(y_test, predictions.round())\n",
    "        f1 = 2 * (precision * recall) / (precision + recall)\n",
    "        print(f\"Alpha: {i}, Max Iterations: {j}, Accuracy: {accuracy}, Recall: {recall}, Precision: {precision}, F1 Score: {f1}\")\n",
    "        with open('lasso_results.csv', 'a') as f:\n",
    "            hyper_param = \"{Alpha = \" + str(i) + \" Max Iterations = \" + str(j) + \"}\"\n",
    "            f.write(f\"Lasso Regression, 80-20, {accuracy*100}, {recall}, {precision}, {f1}, {hyper_param}\\n\")"
   ]
  }
 ],
 "metadata": {
  "kernelspec": {
   "display_name": "base",
   "language": "python",
   "name": "python3"
  },
  "language_info": {
   "codemirror_mode": {
    "name": "ipython",
    "version": 3
   },
   "file_extension": ".py",
   "mimetype": "text/x-python",
   "name": "python",
   "nbconvert_exporter": "python",
   "pygments_lexer": "ipython3",
   "version": "3.11.5"
  }
 },
 "nbformat": 4,
 "nbformat_minor": 2
}
