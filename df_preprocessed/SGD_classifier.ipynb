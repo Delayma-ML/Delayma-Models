{
 "cells": [
  {
   "cell_type": "code",
   "execution_count": 1,
   "metadata": {},
   "outputs": [
    {
     "name": "stdout",
     "output_type": "stream",
     "text": [
      "Requirement already satisfied: numpy in c:\\users\\prakh\\anaconda3\\lib\\site-packages (1.24.3)\n",
      "Requirement already satisfied: pandas in c:\\users\\prakh\\anaconda3\\lib\\site-packages (1.5.3)\n",
      "Requirement already satisfied: matplotlib in c:\\users\\prakh\\anaconda3\\lib\\site-packages (3.7.2)\n",
      "Requirement already satisfied: sklearn in c:\\users\\prakh\\anaconda3\\lib\\site-packages (0.0.post11)\n",
      "Requirement already satisfied: python-dateutil>=2.8.1 in c:\\users\\prakh\\anaconda3\\lib\\site-packages (from pandas) (2.8.2)\n",
      "Requirement already satisfied: pytz>=2020.1 in c:\\users\\prakh\\anaconda3\\lib\\site-packages (from pandas) (2023.3.post1)\n",
      "Requirement already satisfied: contourpy>=1.0.1 in c:\\users\\prakh\\anaconda3\\lib\\site-packages (from matplotlib) (1.0.5)\n",
      "Requirement already satisfied: cycler>=0.10 in c:\\users\\prakh\\anaconda3\\lib\\site-packages (from matplotlib) (0.11.0)\n",
      "Requirement already satisfied: fonttools>=4.22.0 in c:\\users\\prakh\\anaconda3\\lib\\site-packages (from matplotlib) (4.25.0)\n",
      "Requirement already satisfied: kiwisolver>=1.0.1 in c:\\users\\prakh\\anaconda3\\lib\\site-packages (from matplotlib) (1.4.4)\n",
      "Requirement already satisfied: packaging>=20.0 in c:\\users\\prakh\\anaconda3\\lib\\site-packages (from matplotlib) (23.1)\n",
      "Requirement already satisfied: pillow>=6.2.0 in c:\\users\\prakh\\anaconda3\\lib\\site-packages (from matplotlib) (10.0.1)\n",
      "Requirement already satisfied: pyparsing<3.1,>=2.3.1 in c:\\users\\prakh\\anaconda3\\lib\\site-packages (from matplotlib) (3.0.9)\n",
      "Requirement already satisfied: six>=1.5 in c:\\users\\prakh\\anaconda3\\lib\\site-packages (from python-dateutil>=2.8.1->pandas) (1.16.0)\n"
     ]
    }
   ],
   "source": [
    "!pip install numpy pandas matplotlib sklearn"
   ]
  },
  {
   "cell_type": "code",
   "execution_count": 2,
   "metadata": {},
   "outputs": [
    {
     "data": {
      "text/plain": [
       "RandomState(MT19937) at 0x23BD1C81640"
      ]
     },
     "execution_count": 2,
     "metadata": {},
     "output_type": "execute_result"
    }
   ],
   "source": [
    "import numpy as np\n",
    "import pandas as pd\n",
    "import matplotlib.pyplot as plt\n",
    "from sklearn.metrics import confusion_matrix, classification_report, accuracy_score, recall_score, precision_score, f1_score\n",
    "from sklearn.linear_model import SGDClassifier\n",
    "from sklearn.model_selection import train_test_split\n",
    "# fix a random seed\n",
    "np.random.seed(42)\n",
    "import sklearn\n",
    "sklearn.utils.check_random_state(42)"
   ]
  },
  {
   "cell_type": "code",
   "execution_count": 3,
   "metadata": {},
   "outputs": [
    {
     "name": "stdout",
     "output_type": "stream",
     "text": [
      "c:\\Users\\prakh\\OneDrive\\Documents\\GitHub\\Delayma-Models\n",
      "c:\\Users\\prakh\\OneDrive\\Documents\\GitHub\\Delayma-Models\\df_preprocessed\n"
     ]
    }
   ],
   "source": [
    "%cd ..\n",
    "data = pd.read_csv('Datasets/df_preprocessed.csv')\n",
    "data.head()\n",
    "%cd df_preprocessed"
   ]
  },
  {
   "cell_type": "code",
   "execution_count": 4,
   "metadata": {},
   "outputs": [
    {
     "name": "stdout",
     "output_type": "stream",
     "text": [
      "Index(['MONTH', 'DAY_OF_MONTH', 'DAY_OF_WEEK', 'OP_UNIQUE_CARRIER', 'DEST',\n",
      "       'DEP_DELAY', 'CRS_ELAPSED_TIME', 'DISTANCE', 'CRS_DEP_M', 'DEP_TIME_M',\n",
      "       'CRS_ARR_M', 'Temperature', 'Dew Point', 'Humidity', 'Wind',\n",
      "       'Wind Speed', 'Wind Gust', 'Pressure', 'sch_dep', 'sch_arr', 'TAXI_OUT',\n",
      "       'Cloudy', 'Windy', 'Fair', 'Rain', 'Fog', 'Drizzle', 'Snow',\n",
      "       'Wintry Mix', 'Freezing Rain', 'MONTH_sin', 'MONTH_cos',\n",
      "       'DAY_OF_MONTH_sin', 'DAY_OF_MONTH_cos', 'DAY_OF_WEEK_sin',\n",
      "       'DAY_OF_WEEK_cos'],\n",
      "      dtype='object')\n"
     ]
    }
   ],
   "source": [
    "# print columns\n",
    "print(data.columns)\n",
    "# drop MONTH, DAY_OF_MONTH, DAY_OF_WEEK\n",
    "data.drop(['MONTH', 'DAY_OF_MONTH', 'DAY_OF_WEEK'], axis=1, inplace=True)"
   ]
  },
  {
   "cell_type": "code",
   "execution_count": 5,
   "metadata": {},
   "outputs": [],
   "source": [
    "hyperparameters = {\n",
    "    'penalty' : ['l1', 'l2', 'elasticnet'],\n",
    "    'tol' : [1e-5, 1e-4],\n",
    "    'loss' : ['hinge', 'modified_huber', 'perceptron'],\n",
    "}"
   ]
  },
  {
   "cell_type": "code",
   "execution_count": 6,
   "metadata": {},
   "outputs": [
    {
     "name": "stdout",
     "output_type": "stream",
     "text": [
      "Penalty: l1, tol: 1e-05, loss: hinge, Accuracy: 0.34507286606523246, Recall: 1.0, Precision: 0.17323696890056942, F1: 0.29531454172111254\n",
      "Penalty: l1, tol: 1e-05, loss: modified_huber, Accuracy: 0.9994795281054824, Recall: 1.0, Precision: 0.9962216624685138, F1: 0.9981072555205047\n",
      "Penalty: l1, tol: 1e-05, loss: perceptron, Accuracy: 0.8934767522553783, Recall: 0.22376738305941846, Precision: 1.0, F1: 0.365702479338843\n",
      "Penalty: l1, tol: 0.0001, loss: hinge, Accuracy: 0.9998265093684942, Recall: 0.9987357774968394, Precision: 1.0, F1: 0.9993674889310563\n",
      "Penalty: l1, tol: 0.0001, loss: modified_huber, Accuracy: 0.9963566967383761, Recall: 0.9949431099873578, Precision: 0.9788557213930348, F1: 0.9868338557993731\n",
      "Penalty: l1, tol: 0.0001, loss: perceptron, Accuracy: 0.9958362248438585, Recall: 0.9696586599241467, Precision: 1.0, F1: 0.9845956354300385\n",
      "Penalty: l2, tol: 1e-05, loss: hinge, Accuracy: 0.7354267869535045, Recall: 0.40075853350189633, Precision: 0.23172514619883042, F1: 0.2936544696618805\n",
      "Penalty: l2, tol: 1e-05, loss: modified_huber, Accuracy: 0.8641568355308813, Recall: 0.10366624525916561, Precision: 0.5256410256410257, F1: 0.17317845828933476\n",
      "Penalty: l2, tol: 1e-05, loss: perceptron, Accuracy: 0.8634628730048577, Recall: 0.0050568900126422255, Precision: 1.0, F1: 0.010062893081761008\n",
      "Penalty: l2, tol: 0.0001, loss: hinge, Accuracy: 0.8096807772380291, Recall: 0.7610619469026548, Precision: 0.39867549668874175, F1: 0.5232507605388961\n",
      "Penalty: l2, tol: 0.0001, loss: modified_huber, Accuracy: 0.5810201249132547, Recall: 0.7585335018963337, Precision: 0.21246458923512748, F1: 0.33195020746887965\n",
      "Penalty: l2, tol: 0.0001, loss: perceptron, Accuracy: 0.6530187369882027, Recall: 0.6864728192161821, Precision: 0.23660130718954248, F1: 0.35191186001296176\n"
     ]
    },
    {
     "name": "stderr",
     "output_type": "stream",
     "text": [
      "c:\\Users\\prakh\\anaconda3\\Lib\\site-packages\\sklearn\\metrics\\_classification.py:1469: UndefinedMetricWarning: Precision is ill-defined and being set to 0.0 due to no predicted samples. Use `zero_division` parameter to control this behavior.\n",
      "  _warn_prf(average, modifier, msg_start, len(result))\n",
      "C:\\Users\\prakh\\AppData\\Local\\Temp\\ipykernel_24700\\2750312270.py:14: RuntimeWarning: invalid value encountered in scalar divide\n",
      "  f1 = 2 * (precision * recall) / (precision + recall)\n"
     ]
    },
    {
     "name": "stdout",
     "output_type": "stream",
     "text": [
      "Penalty: elasticnet, tol: 1e-05, loss: hinge, Accuracy: 0.8627689104788342, Recall: 0.0, Precision: 0.0, F1: nan\n",
      "Penalty: elasticnet, tol: 1e-05, loss: modified_huber, Accuracy: 0.8650242886884109, Recall: 0.01643489254108723, Precision: 1.0, F1: 0.032338308457711434\n",
      "Penalty: elasticnet, tol: 1e-05, loss: perceptron, Accuracy: 0.7080152671755725, Recall: 0.6257901390644753, Precision: 0.2630180658873539, F1: 0.37037037037037035\n",
      "Penalty: elasticnet, tol: 0.0001, loss: hinge, Accuracy: 0.8645038167938931, Recall: 0.1820480404551201, Precision: 0.5179856115107914, F1: 0.26941066417212345\n",
      "Penalty: elasticnet, tol: 0.0001, loss: modified_huber, Accuracy: 0.8669326856349757, Recall: 0.03034134007585335, Precision: 1.0, F1: 0.058895705521472386\n",
      "Penalty: elasticnet, tol: 0.0001, loss: perceptron, Accuracy: 0.8627689104788342, Recall: 0.0, Precision: 0.0, F1: nan\n"
     ]
    },
    {
     "name": "stderr",
     "output_type": "stream",
     "text": [
      "c:\\Users\\prakh\\anaconda3\\Lib\\site-packages\\sklearn\\metrics\\_classification.py:1469: UndefinedMetricWarning: Precision is ill-defined and being set to 0.0 due to no predicted samples. Use `zero_division` parameter to control this behavior.\n",
      "  _warn_prf(average, modifier, msg_start, len(result))\n",
      "C:\\Users\\prakh\\AppData\\Local\\Temp\\ipykernel_24700\\2750312270.py:14: RuntimeWarning: invalid value encountered in scalar divide\n",
      "  f1 = 2 * (precision * recall) / (precision + recall)\n"
     ]
    }
   ],
   "source": [
    "for i in hyperparameters['penalty']:\n",
    "    for j in hyperparameters['tol']:\n",
    "        for k in hyperparameters['loss']:\n",
    "            X_train, X_test, y_train, y_test = train_test_split(data, data['DEP_DELAY'], test_size=0.2, random_state=42)            \n",
    "            if i == 'l1' or i == 'l2':\n",
    "                clf = SGDClassifier(penalty=i, tol=j, loss=k, alpha=0.0001)\n",
    "            else:\n",
    "                clf = SGDClassifier(penalty=i, tol=j, loss=k, alpha=0.0001, l1_ratio=0.15)\n",
    "            clf.fit(X_train, y_train)\n",
    "            y_pred = clf.predict(X_test)\n",
    "            accuracy = accuracy_score(y_test, y_pred)\n",
    "            recall = recall_score(y_test, y_pred)\n",
    "            precision = precision_score(y_test, y_pred)\n",
    "            f1 = 2 * (precision * recall) / (precision + recall)\n",
    "            print(f\"Penalty: {i}, tol: {j}, loss: {k}, Accuracy: {accuracy}, Recall: {recall}, Precision: {precision}, F1: {f1}\")\n",
    "            # write into a csv file for saving results \n",
    "            with open('SGD_results.csv', 'a') as f:\n",
    "                hyper_param = \"{Penalty = \" + str(i) + \" Tolerance = \" + str(j) + \" Loss = \" + str(k) + \"}\"\n",
    "                f.write(f\"SGD Classifier, 80-20, {accuracy*100}, {recall}, {precision}, {f1_score}, {hyper_param}\\n\")"
   ]
  }
 ],
 "metadata": {
  "kernelspec": {
   "display_name": "base",
   "language": "python",
   "name": "python3"
  },
  "language_info": {
   "codemirror_mode": {
    "name": "ipython",
    "version": 3
   },
   "file_extension": ".py",
   "mimetype": "text/x-python",
   "name": "python",
   "nbconvert_exporter": "python",
   "pygments_lexer": "ipython3",
   "version": "3.11.5"
  }
 },
 "nbformat": 4,
 "nbformat_minor": 2
}
