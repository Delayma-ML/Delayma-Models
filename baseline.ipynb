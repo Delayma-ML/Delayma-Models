{
 "cells": [
  {
   "cell_type": "code",
   "execution_count": null,
   "metadata": {},
   "outputs": [],
   "source": [
    "import pandas as pd\n",
    "import numpy as np\n",
    "import matplotlib.pyplot as plt\n",
    "from boruta import BorutaPy\n",
    "from sklearn.ensemble import RandomForestClassifier\n",
    "from sklearn.model_selection import train_test_split\n",
    "from imblearn.over_sampling import SMOTE\n",
    "from sklearn.preprocessing import StandardScaler"
   ]
  },
  {
   "cell_type": "code",
   "execution_count": null,
   "metadata": {},
   "outputs": [
    {
     "data": {
      "text/plain": "   Unnamed: 0  OP_UNIQUE_CARRIER  DEST  DEP_DELAY  CRS_ELAPSED_TIME  DISTANCE  \\\n0           0                  3    10          0               124       636   \n1           1                  3    28          0               371      2475   \n2           2                  3    20          1               181      1069   \n3           3                  3    30          0               168       944   \n4           4                  4     1          0               139       760   \n\n   CRS_DEP_M  CRS_ARR_M  Temperature  Dew Point  ...  Drizzle  Snow  \\\n0        324        448           48         30  ...        0     0   \n1        340        531           48         30  ...        0     0   \n2        301        482           48         30  ...        0     0   \n3        345        513           48         30  ...        0     0   \n4        360        499           46         28  ...        0     0   \n\n   Wintry Mix  Freezing Rain  MONTH_sin  MONTH_cos  DAY_OF_MONTH_sin  \\\n0           0              0       -0.5   0.866025          0.201299   \n1           0              0       -0.5   0.866025          0.201299   \n2           0              0       -0.5   0.866025          0.201299   \n3           0              0       -0.5   0.866025          0.201299   \n4           0              0       -0.5   0.866025          0.201299   \n\n   DAY_OF_MONTH_cos  DAY_OF_WEEK_sin  DAY_OF_WEEK_cos  \n0           0.97953        -0.974928        -0.222521  \n1           0.97953        -0.974928        -0.222521  \n2           0.97953        -0.974928        -0.222521  \n3           0.97953        -0.974928        -0.222521  \n4           0.97953        -0.974928        -0.222521  \n\n[5 rows x 33 columns]",
      "text/html": "<div>\n<style scoped>\n    .dataframe tbody tr th:only-of-type {\n        vertical-align: middle;\n    }\n\n    .dataframe tbody tr th {\n        vertical-align: top;\n    }\n\n    .dataframe thead th {\n        text-align: right;\n    }\n</style>\n<table border=\"1\" class=\"dataframe\">\n  <thead>\n    <tr style=\"text-align: right;\">\n      <th></th>\n      <th>Unnamed: 0</th>\n      <th>OP_UNIQUE_CARRIER</th>\n      <th>DEST</th>\n      <th>DEP_DELAY</th>\n      <th>CRS_ELAPSED_TIME</th>\n      <th>DISTANCE</th>\n      <th>CRS_DEP_M</th>\n      <th>CRS_ARR_M</th>\n      <th>Temperature</th>\n      <th>Dew Point</th>\n      <th>...</th>\n      <th>Drizzle</th>\n      <th>Snow</th>\n      <th>Wintry Mix</th>\n      <th>Freezing Rain</th>\n      <th>MONTH_sin</th>\n      <th>MONTH_cos</th>\n      <th>DAY_OF_MONTH_sin</th>\n      <th>DAY_OF_MONTH_cos</th>\n      <th>DAY_OF_WEEK_sin</th>\n      <th>DAY_OF_WEEK_cos</th>\n    </tr>\n  </thead>\n  <tbody>\n    <tr>\n      <th>0</th>\n      <td>0</td>\n      <td>3</td>\n      <td>10</td>\n      <td>0</td>\n      <td>124</td>\n      <td>636</td>\n      <td>324</td>\n      <td>448</td>\n      <td>48</td>\n      <td>30</td>\n      <td>...</td>\n      <td>0</td>\n      <td>0</td>\n      <td>0</td>\n      <td>0</td>\n      <td>-0.5</td>\n      <td>0.866025</td>\n      <td>0.201299</td>\n      <td>0.97953</td>\n      <td>-0.974928</td>\n      <td>-0.222521</td>\n    </tr>\n    <tr>\n      <th>1</th>\n      <td>1</td>\n      <td>3</td>\n      <td>28</td>\n      <td>0</td>\n      <td>371</td>\n      <td>2475</td>\n      <td>340</td>\n      <td>531</td>\n      <td>48</td>\n      <td>30</td>\n      <td>...</td>\n      <td>0</td>\n      <td>0</td>\n      <td>0</td>\n      <td>0</td>\n      <td>-0.5</td>\n      <td>0.866025</td>\n      <td>0.201299</td>\n      <td>0.97953</td>\n      <td>-0.974928</td>\n      <td>-0.222521</td>\n    </tr>\n    <tr>\n      <th>2</th>\n      <td>2</td>\n      <td>3</td>\n      <td>20</td>\n      <td>1</td>\n      <td>181</td>\n      <td>1069</td>\n      <td>301</td>\n      <td>482</td>\n      <td>48</td>\n      <td>30</td>\n      <td>...</td>\n      <td>0</td>\n      <td>0</td>\n      <td>0</td>\n      <td>0</td>\n      <td>-0.5</td>\n      <td>0.866025</td>\n      <td>0.201299</td>\n      <td>0.97953</td>\n      <td>-0.974928</td>\n      <td>-0.222521</td>\n    </tr>\n    <tr>\n      <th>3</th>\n      <td>3</td>\n      <td>3</td>\n      <td>30</td>\n      <td>0</td>\n      <td>168</td>\n      <td>944</td>\n      <td>345</td>\n      <td>513</td>\n      <td>48</td>\n      <td>30</td>\n      <td>...</td>\n      <td>0</td>\n      <td>0</td>\n      <td>0</td>\n      <td>0</td>\n      <td>-0.5</td>\n      <td>0.866025</td>\n      <td>0.201299</td>\n      <td>0.97953</td>\n      <td>-0.974928</td>\n      <td>-0.222521</td>\n    </tr>\n    <tr>\n      <th>4</th>\n      <td>4</td>\n      <td>4</td>\n      <td>1</td>\n      <td>0</td>\n      <td>139</td>\n      <td>760</td>\n      <td>360</td>\n      <td>499</td>\n      <td>46</td>\n      <td>28</td>\n      <td>...</td>\n      <td>0</td>\n      <td>0</td>\n      <td>0</td>\n      <td>0</td>\n      <td>-0.5</td>\n      <td>0.866025</td>\n      <td>0.201299</td>\n      <td>0.97953</td>\n      <td>-0.974928</td>\n      <td>-0.222521</td>\n    </tr>\n  </tbody>\n</table>\n<p>5 rows × 33 columns</p>\n</div>"
     },
     "execution_count": 2,
     "metadata": {},
     "output_type": "execute_result"
    }
   ],
   "source": [
    "df = pd.read_csv('Datasets/df_preprocessed.csv')\n",
    "df = df.drop(['DAY_OF_WEEK', 'DAY_OF_MONTH', 'MONTH'], axis=1)\n",
    "df.head()\n"
   ]
  },
  {
   "cell_type": "code",
   "execution_count": null,
   "metadata": {},
   "outputs": [
    {
     "name": "stdout",
     "output_type": "stream",
     "text": [
      "(28820, 32) (28820,)\n"
     ]
    }
   ],
   "source": [
    "X = df.drop(['DEP_DELAY'], axis=1)\n",
    "y = df['DEP_DELAY']\n",
    "y = y.ravel()\n",
    "print(X.shape, y.shape)\n"
   ]
  },
  {
   "cell_type": "code",
   "execution_count": null,
   "metadata": {},
   "outputs": [
    {
     "name": "stdout",
     "output_type": "stream",
     "text": [
      "(49892, 32) (49892,)\n"
     ]
    }
   ],
   "source": [
    "#smote\n",
    "sm = SMOTE(random_state=42)\n",
    "\n",
    "X, y = sm.fit_resample(X, y)\n",
    "print(X.shape, y.shape)"
   ]
  },
  {
   "cell_type": "code",
   "execution_count": null,
   "metadata": {},
   "outputs": [
    {
     "name": "stdout",
     "output_type": "stream",
     "text": [
      "(39913, 32) (39913,)\n",
      "(9979, 32) (9979,)\n"
     ]
    }
   ],
   "source": [
    "# Splitting the data into train and test sets\n",
    "X_train, X_test, y_train, y_test = train_test_split(X, y, test_size=0.2, random_state=24)\n",
    "print(X_train.shape, y_train.shape)\n",
    "print(X_test.shape, y_test.shape)\n",
    "\n",
    "#scaling data\n",
    "scaler = StandardScaler()\n",
    "X_train = scaler.fit_transform(X_train)\n",
    "X_test = scaler.transform(X_test)\n",
    "\n",
    "\n",
    "#boruta feature selection\n",
    "rf = RandomForestClassifier(n_jobs=-1, class_weight='balanced', max_depth=5)\n",
    "feat_selector = BorutaPy(rf, n_estimators='auto', verbose=2, random_state=1, max_iter=25)"
   ]
  },
  {
   "cell_type": "code",
   "execution_count": null,
   "outputs": [],
   "source": [
    "# !pip install numpy==1.19.3"
   ],
   "metadata": {
    "collapsed": false
   }
  },
  {
   "cell_type": "code",
   "execution_count": null,
   "metadata": {},
   "outputs": [
    {
     "name": "stdout",
     "output_type": "stream",
     "text": [
      "Iteration: \t1 / 25\n",
      "Confirmed: \t0\n",
      "Tentative: \t32\n",
      "Rejected: \t0\n",
      "Iteration: \t2 / 25\n",
      "Confirmed: \t0\n",
      "Tentative: \t32\n",
      "Rejected: \t0\n",
      "Iteration: \t3 / 25\n",
      "Confirmed: \t0\n",
      "Tentative: \t32\n",
      "Rejected: \t0\n",
      "Iteration: \t4 / 25\n",
      "Confirmed: \t0\n",
      "Tentative: \t32\n",
      "Rejected: \t0\n",
      "Iteration: \t5 / 25\n",
      "Confirmed: \t0\n",
      "Tentative: \t32\n",
      "Rejected: \t0\n",
      "Iteration: \t6 / 25\n",
      "Confirmed: \t0\n",
      "Tentative: \t32\n",
      "Rejected: \t0\n",
      "Iteration: \t7 / 25\n",
      "Confirmed: \t0\n",
      "Tentative: \t32\n",
      "Rejected: \t0\n",
      "Iteration: \t8 / 25\n",
      "Confirmed: \t27\n",
      "Tentative: \t2\n",
      "Rejected: \t3\n",
      "Iteration: \t9 / 25\n",
      "Confirmed: \t27\n",
      "Tentative: \t2\n",
      "Rejected: \t3\n",
      "Iteration: \t10 / 25\n",
      "Confirmed: \t27\n",
      "Tentative: \t2\n",
      "Rejected: \t3\n",
      "Iteration: \t11 / 25\n",
      "Confirmed: \t27\n",
      "Tentative: \t2\n",
      "Rejected: \t3\n",
      "Iteration: \t12 / 25\n",
      "Confirmed: \t27\n",
      "Tentative: \t2\n",
      "Rejected: \t3\n",
      "Iteration: \t13 / 25\n",
      "Confirmed: \t27\n",
      "Tentative: \t2\n",
      "Rejected: \t3\n",
      "Iteration: \t14 / 25\n",
      "Confirmed: \t27\n",
      "Tentative: \t2\n",
      "Rejected: \t3\n",
      "Iteration: \t15 / 25\n",
      "Confirmed: \t27\n",
      "Tentative: \t2\n",
      "Rejected: \t3\n",
      "Iteration: \t16 / 25\n",
      "Confirmed: \t27\n",
      "Tentative: \t2\n",
      "Rejected: \t3\n",
      "Iteration: \t17 / 25\n",
      "Confirmed: \t27\n",
      "Tentative: \t2\n",
      "Rejected: \t3\n",
      "Iteration: \t18 / 25\n",
      "Confirmed: \t27\n",
      "Tentative: \t2\n",
      "Rejected: \t3\n",
      "Iteration: \t19 / 25\n",
      "Confirmed: \t27\n",
      "Tentative: \t2\n",
      "Rejected: \t3\n",
      "Iteration: \t20 / 25\n",
      "Confirmed: \t27\n",
      "Tentative: \t1\n",
      "Rejected: \t4\n",
      "Iteration: \t21 / 25\n",
      "Confirmed: \t27\n",
      "Tentative: \t1\n",
      "Rejected: \t4\n",
      "Iteration: \t22 / 25\n",
      "Confirmed: \t27\n",
      "Tentative: \t1\n",
      "Rejected: \t4\n",
      "Iteration: \t23 / 25\n",
      "Confirmed: \t27\n",
      "Tentative: \t1\n",
      "Rejected: \t4\n",
      "Iteration: \t24 / 25\n",
      "Confirmed: \t27\n",
      "Tentative: \t1\n",
      "Rejected: \t4\n"
     ]
    },
    {
     "name": "stderr",
     "output_type": "stream",
     "text": [
      "C:\\Users\\Vartika\\AppData\\Local\\Programs\\Python\\Python310\\lib\\site-packages\\boruta\\boruta_py.py:319: FutureWarning: In the future `np.bool` will be defined as the corresponding NumPy scalar.\n",
      "  self.support_ = np.zeros(n_feat, dtype=np.bool)\n"
     ]
    },
    {
     "ename": "AttributeError",
     "evalue": "module 'numpy' has no attribute 'bool'.\n`np.bool` was a deprecated alias for the builtin `bool`. To avoid this error in existing code, use `bool` by itself. Doing this will not modify any behavior and is safe. If you specifically wanted the numpy scalar type, use `np.bool_` here.\nThe aliases was originally deprecated in NumPy 1.20; for more details and guidance see the original release note at:\n    https://numpy.org/devdocs/release/1.20.0-notes.html#deprecations",
     "output_type": "error",
     "traceback": [
      "\u001B[1;31m---------------------------------------------------------------------------\u001B[0m",
      "\u001B[1;31mAttributeError\u001B[0m                            Traceback (most recent call last)",
      "Input \u001B[1;32mIn [7]\u001B[0m, in \u001B[0;36m<cell line: 1>\u001B[1;34m()\u001B[0m\n\u001B[1;32m----> 1\u001B[0m \u001B[43mfeat_selector\u001B[49m\u001B[38;5;241;43m.\u001B[39;49m\u001B[43mfit\u001B[49m\u001B[43m(\u001B[49m\u001B[43mX_train\u001B[49m\u001B[43m,\u001B[49m\u001B[43m \u001B[49m\u001B[43my_train\u001B[49m\u001B[43m)\u001B[49m\n\u001B[0;32m      3\u001B[0m X_train \u001B[38;5;241m=\u001B[39m feat_selector\u001B[38;5;241m.\u001B[39mtransform(X_train)\n\u001B[0;32m      5\u001B[0m X_test \u001B[38;5;241m=\u001B[39m feat_selector\u001B[38;5;241m.\u001B[39mtransform(X_test)\n",
      "File \u001B[1;32m~\\AppData\\Local\\Programs\\Python\\Python310\\lib\\site-packages\\boruta\\boruta_py.py:201\u001B[0m, in \u001B[0;36mBorutaPy.fit\u001B[1;34m(self, X, y)\u001B[0m\n\u001B[0;32m    188\u001B[0m \u001B[38;5;28;01mdef\u001B[39;00m \u001B[38;5;21mfit\u001B[39m(\u001B[38;5;28mself\u001B[39m, X, y):\n\u001B[0;32m    189\u001B[0m \u001B[38;5;250m    \u001B[39m\u001B[38;5;124;03m\"\"\"\u001B[39;00m\n\u001B[0;32m    190\u001B[0m \u001B[38;5;124;03m    Fits the Boruta feature selection with the provided estimator.\u001B[39;00m\n\u001B[0;32m    191\u001B[0m \n\u001B[1;32m   (...)\u001B[0m\n\u001B[0;32m    198\u001B[0m \u001B[38;5;124;03m        The target values.\u001B[39;00m\n\u001B[0;32m    199\u001B[0m \u001B[38;5;124;03m    \"\"\"\u001B[39;00m\n\u001B[1;32m--> 201\u001B[0m     \u001B[38;5;28;01mreturn\u001B[39;00m \u001B[38;5;28;43mself\u001B[39;49m\u001B[38;5;241;43m.\u001B[39;49m\u001B[43m_fit\u001B[49m\u001B[43m(\u001B[49m\u001B[43mX\u001B[49m\u001B[43m,\u001B[49m\u001B[43m \u001B[49m\u001B[43my\u001B[49m\u001B[43m)\u001B[49m\n",
      "File \u001B[1;32m~\\AppData\\Local\\Programs\\Python\\Python310\\lib\\site-packages\\boruta\\boruta_py.py:319\u001B[0m, in \u001B[0;36mBorutaPy._fit\u001B[1;34m(self, X, y)\u001B[0m\n\u001B[0;32m    317\u001B[0m \u001B[38;5;66;03m# basic result variables\u001B[39;00m\n\u001B[0;32m    318\u001B[0m \u001B[38;5;28mself\u001B[39m\u001B[38;5;241m.\u001B[39mn_features_ \u001B[38;5;241m=\u001B[39m confirmed\u001B[38;5;241m.\u001B[39mshape[\u001B[38;5;241m0\u001B[39m]\n\u001B[1;32m--> 319\u001B[0m \u001B[38;5;28mself\u001B[39m\u001B[38;5;241m.\u001B[39msupport_ \u001B[38;5;241m=\u001B[39m np\u001B[38;5;241m.\u001B[39mzeros(n_feat, dtype\u001B[38;5;241m=\u001B[39m\u001B[43mnp\u001B[49m\u001B[38;5;241;43m.\u001B[39;49m\u001B[43mbool\u001B[49m)\n\u001B[0;32m    320\u001B[0m \u001B[38;5;28mself\u001B[39m\u001B[38;5;241m.\u001B[39msupport_[confirmed] \u001B[38;5;241m=\u001B[39m \u001B[38;5;241m1\u001B[39m\n\u001B[0;32m    321\u001B[0m \u001B[38;5;28mself\u001B[39m\u001B[38;5;241m.\u001B[39msupport_weak_ \u001B[38;5;241m=\u001B[39m np\u001B[38;5;241m.\u001B[39mzeros(n_feat, dtype\u001B[38;5;241m=\u001B[39mnp\u001B[38;5;241m.\u001B[39mbool)\n",
      "File \u001B[1;32m~\\AppData\\Local\\Programs\\Python\\Python310\\lib\\site-packages\\numpy\\__init__.py:305\u001B[0m, in \u001B[0;36m__getattr__\u001B[1;34m(attr)\u001B[0m\n\u001B[0;32m    300\u001B[0m     warnings\u001B[38;5;241m.\u001B[39mwarn(\n\u001B[0;32m    301\u001B[0m         \u001B[38;5;124mf\u001B[39m\u001B[38;5;124m\"\u001B[39m\u001B[38;5;124mIn the future `np.\u001B[39m\u001B[38;5;132;01m{\u001B[39;00mattr\u001B[38;5;132;01m}\u001B[39;00m\u001B[38;5;124m` will be defined as the \u001B[39m\u001B[38;5;124m\"\u001B[39m\n\u001B[0;32m    302\u001B[0m         \u001B[38;5;124m\"\u001B[39m\u001B[38;5;124mcorresponding NumPy scalar.\u001B[39m\u001B[38;5;124m\"\u001B[39m, \u001B[38;5;167;01mFutureWarning\u001B[39;00m, stacklevel\u001B[38;5;241m=\u001B[39m\u001B[38;5;241m2\u001B[39m)\n\u001B[0;32m    304\u001B[0m \u001B[38;5;28;01mif\u001B[39;00m attr \u001B[38;5;129;01min\u001B[39;00m __former_attrs__:\n\u001B[1;32m--> 305\u001B[0m     \u001B[38;5;28;01mraise\u001B[39;00m \u001B[38;5;167;01mAttributeError\u001B[39;00m(__former_attrs__[attr])\n\u001B[0;32m    307\u001B[0m \u001B[38;5;66;03m# Importing Tester requires importing all of UnitTest which is not a\u001B[39;00m\n\u001B[0;32m    308\u001B[0m \u001B[38;5;66;03m# cheap import Since it is mainly used in test suits, we lazy import it\u001B[39;00m\n\u001B[0;32m    309\u001B[0m \u001B[38;5;66;03m# here to save on the order of 10 ms of import time for most users\u001B[39;00m\n\u001B[0;32m    310\u001B[0m \u001B[38;5;66;03m#\u001B[39;00m\n\u001B[0;32m    311\u001B[0m \u001B[38;5;66;03m# The previous way Tester was imported also had a side effect of adding\u001B[39;00m\n\u001B[0;32m    312\u001B[0m \u001B[38;5;66;03m# the full `numpy.testing` namespace\u001B[39;00m\n\u001B[0;32m    313\u001B[0m \u001B[38;5;28;01mif\u001B[39;00m attr \u001B[38;5;241m==\u001B[39m \u001B[38;5;124m'\u001B[39m\u001B[38;5;124mtesting\u001B[39m\u001B[38;5;124m'\u001B[39m:\n",
      "\u001B[1;31mAttributeError\u001B[0m: module 'numpy' has no attribute 'bool'.\n`np.bool` was a deprecated alias for the builtin `bool`. To avoid this error in existing code, use `bool` by itself. Doing this will not modify any behavior and is safe. If you specifically wanted the numpy scalar type, use `np.bool_` here.\nThe aliases was originally deprecated in NumPy 1.20; for more details and guidance see the original release note at:\n    https://numpy.org/devdocs/release/1.20.0-notes.html#deprecations"
     ]
    }
   ],
   "source": [
    "feat_selector.fit(X_train, y_train)\n",
    "\n",
    "X_train = feat_selector.transform(X_train)\n",
    "\n",
    "X_test = feat_selector.transform(X_test)"
   ]
  },
  {
   "cell_type": "code",
   "execution_count": 8,
   "metadata": {},
   "outputs": [
    {
     "name": "stdout",
     "output_type": "stream",
     "text": [
      "KNN 0.8478805491532218 0.7950680272108843 0.9372493985565357 0.8603238866396761 \n",
      "Random Forest 0.9421785750075158 0.9574777017216345 0.92542101042502 0.9411764705882353 \n",
      "Logistic Regression 0.6607876540735544 0.6693429114726389 0.6351242983159583 0.6517847958029009 \n",
      "Decision Tree 0.8860607275278084 0.8848690785528682 0.8875300721732157 0.886197577820038 \n",
      "Gaussian Naive Bayes 0.6238100010021044 0.5832433890987587 0.8666800320769847 0.697258064516129 \n"
     ]
    }
   ],
   "source": [
    "#knn, randomforest, logistic regression, decision tree, gaussian naive bayes\n",
    "from sklearn.neighbors import KNeighborsClassifier\n",
    "from sklearn.ensemble import RandomForestClassifier\n",
    "from sklearn.linear_model import LogisticRegression\n",
    "from sklearn.tree import DecisionTreeClassifier\n",
    "from sklearn.naive_bayes import GaussianNB\n",
    "\n",
    "from sklearn.metrics import accuracy_score, precision_score, recall_score, f1_score, roc_auc_score, roc_curve\n",
    "models = [KNeighborsClassifier(), RandomForestClassifier(), LogisticRegression(), DecisionTreeClassifier(), GaussianNB()]\n",
    "dic = {}\n",
    "i = 0\n",
    "for model in models:\n",
    "    model.fit(X_train, y_train)\n",
    "    y_pred = model.predict(X_test)\n",
    "    #accuracy precision, recall f1 score\n",
    "    if(i == 0):\n",
    "        print('KNN', end = ' ')\n",
    "    elif(i == 1):\n",
    "        print('Random Forest', end = ' ')\n",
    "    elif(i == 2):\n",
    "        print('Logistic Regression', end = ' ')\n",
    "    elif(i == 3):\n",
    "        print('Decision Tree', end = ' ')\n",
    "    elif(i == 4):\n",
    "        print('Gaussian Naive Bayes', end = ' ')\n",
    "    i += 1\n",
    "    dic[model] = [accuracy_score(y_test, y_pred), precision_score(y_test, y_pred), recall_score(y_test, y_pred), f1_score(y_test, y_pred), roc_auc_score(y_test, y_pred)]\n",
    "    print(accuracy_score(y_test, y_pred), end = ' ')\n",
    "    print(precision_score(y_test, y_pred), end = ' ')\n",
    "    print(recall_score(y_test, y_pred), end = ' ')\n",
    "    print(f1_score(y_test, y_pred), end = ' ')\n",
    "    print()"
   ]
  },
  {
   "cell_type": "code",
   "execution_count": 22,
   "metadata": {},
   "outputs": [
    {
     "data": {
      "text/plain": "<Figure size 1080x864 with 4 Axes>",
      "image/png": "[encoded data removed]"
     },
     "metadata": {
      "needs_background": "light"
     },
     "output_type": "display_data"
    }
   ],
   "source": [
    "import matplotlib.pyplot as plt\n",
    "\n",
    "# Assuming dic is your dictionary containing model performance metrics\n",
    "\n",
    "fig, axes = plt.subplots(nrows=2, ncols=2, figsize=(15, 12))\n",
    "\n",
    "\n",
    "colors = {'RandomForestClassifier': 'red', 'OtherModel': 'blue', 'AnotherModel': 'blue'}  # Update with your actual model names\n",
    "\n",
    "# Plot Accuracy\n",
    "model_names = [model.__class__.__name__ for model in dic]\n",
    "bars_acc = axes[0, 0].bar(range(len(dic)), [dic[model][0] for model in dic], align='center', color=[colors.get(name, 'blue') for name in model_names])\n",
    "axes[0, 0].set_xticks(range(len(dic)))\n",
    "axes[0, 0].set_xticklabels(model_names, rotation=45, ha='right')\n",
    "axes[0, 0].set_xlabel('Model')\n",
    "axes[0, 0].set_ylabel('Accuracy')\n",
    "axes[0, 0].set_title('Accuracy of Models')\n",
    "\n",
    "# Plot Precision\n",
    "bars_precision = axes[0, 1].bar(range(len(dic)), [dic[model][1] for model in dic], align='center', color=[colors.get(name, 'blue') for name in model_names])\n",
    "axes[0, 1].set_xticks(range(len(dic)))\n",
    "axes[0, 1].set_xticklabels(model_names, rotation=45, ha='right')\n",
    "axes[0, 1].set_xlabel('Model')\n",
    "axes[0, 1].set_ylabel('Precision')\n",
    "axes[0, 1].set_title('Precision of Models')\n",
    "\n",
    "# Plot Recall\n",
    "bars_recall = axes[1, 0].bar(range(len(dic)), [dic[model][2] for model in dic], align='center', color=[colors.get(name, 'blue') for name in model_names])\n",
    "axes[1, 0].set_xticks(range(len(dic)))\n",
    "axes[1, 0].set_xticklabels(model_names, rotation=45, ha='right')\n",
    "axes[1, 0].set_xlabel('Model')\n",
    "axes[1, 0].set_ylabel('Recall')\n",
    "axes[1, 0].set_title('Recall of Models')\n",
    "\n",
    "# Plot F1 Score\n",
    "bars_f1 = axes[1, 1].bar(range(len(dic)), [dic[model][3] for model in dic], align='center', color=[colors.get(name, 'blue') for name in model_names])\n",
    "axes[1, 1].set_xticks(range(len(dic)))\n",
    "axes[1, 1].set_xticklabels(model_names, rotation=45, ha='right')\n",
    "axes[1, 1].set_xlabel('Model')\n",
    "axes[1, 1].set_ylabel('F1 Score')\n",
    "axes[1, 1].set_title('F1 Score of Models')\n",
    "\n",
    "# Add white text on top of bars\n",
    "# for bars, metric_name in zip([bars_acc, bars_precision, bars_recall, bars_f1], ['Accuracy', 'Precision', 'Recall', 'F1 Score']):\n",
    "#     for bar in bars:\n",
    "#         yval = bar.get_height()\n",
    "#         plt.text(bar.get_x() + bar.get_width()/2, yval, round(yval, 2), ha='center', va='bottom', color='red')\n",
    "\n",
    "# Adjust layout\n",
    "plt.tight_layout()\n",
    "\n",
    "# Show the plots\n",
    "plt.show()\n"
   ]
  },
  {
   "cell_type": "code",
   "execution_count": 23,
   "outputs": [],
   "source": [
    "# save the above plot as a png file\n",
    "fig.savefig('images/baseline_performance.png')"
   ],
   "metadata": {
    "collapsed": false
   }
  },
  {
   "cell_type": "code",
   "execution_count": null,
   "outputs": [],
   "source": [],
   "metadata": {
    "collapsed": false
   }
  }
 ],
 "metadata": {
  "kernelspec": {
   "display_name": "Python 3",
   "language": "python",
   "name": "python3"
  },
  "language_info": {
   "codemirror_mode": {
    "name": "ipython",
    "version": 3
   },
   "file_extension": ".py",
   "mimetype": "text/x-python",
   "name": "python",
   "nbconvert_exporter": "python",
   "pygments_lexer": "ipython3",
   "version": "3.10.11"
  }
 },
 "nbformat": 4,
 "nbformat_minor": 2
}
