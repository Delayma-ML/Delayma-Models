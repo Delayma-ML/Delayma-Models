{
 "cells": [
  {
   "cell_type": "code",
   "execution_count": 2,
   "metadata": {
    "collapsed": true
   },
   "outputs": [],
   "source": [
    "import pandas as pd\n",
    "import numpy as np\n",
    "import matplotlib.pyplot as plt\n",
    "import seaborn as sns"
   ]
  },
  {
   "cell_type": "code",
   "execution_count": 3,
   "outputs": [
    {
     "data": {
      "text/plain": "   MONTH  DAY_OF_MONTH  DAY_OF_WEEK  OP_UNIQUE_CARRIER  DEST  DEP_DELAY  \\\n0     11             1            5                  3    10          0   \n1     11             1            5                  3    28          0   \n2     11             1            5                  3    20          1   \n3     11             1            5                  3    30          0   \n4     11             1            5                  4     1          0   \n\n   CRS_ELAPSED_TIME  DISTANCE  CRS_DEP_M  DEP_TIME_M  ...  Drizzle  Snow  \\\n0               124       636        324         323  ...        0     0   \n1               371      2475        340         333  ...        0     0   \n2               181      1069        301         341  ...        0     0   \n3               168       944        345         343  ...        0     0   \n4               139       760        360         356  ...        0     0   \n\n   Wintry Mix  Freezing Rain  MONTH_sin  MONTH_cos  DAY_OF_MONTH_sin  \\\n0           0              0       -0.5   0.866025          0.201299   \n1           0              0       -0.5   0.866025          0.201299   \n2           0              0       -0.5   0.866025          0.201299   \n3           0              0       -0.5   0.866025          0.201299   \n4           0              0       -0.5   0.866025          0.201299   \n\n   DAY_OF_MONTH_cos  DAY_OF_WEEK_sin  DAY_OF_WEEK_cos  \n0           0.97953        -0.974928        -0.222521  \n1           0.97953        -0.974928        -0.222521  \n2           0.97953        -0.974928        -0.222521  \n3           0.97953        -0.974928        -0.222521  \n4           0.97953        -0.974928        -0.222521  \n\n[5 rows x 36 columns]",
      "text/html": "<div>\n<style scoped>\n    .dataframe tbody tr th:only-of-type {\n        vertical-align: middle;\n    }\n\n    .dataframe tbody tr th {\n        vertical-align: top;\n    }\n\n    .dataframe thead th {\n        text-align: right;\n    }\n</style>\n<table border=\"1\" class=\"dataframe\">\n  <thead>\n    <tr style=\"text-align: right;\">\n      <th></th>\n      <th>MONTH</th>\n      <th>DAY_OF_MONTH</th>\n      <th>DAY_OF_WEEK</th>\n      <th>OP_UNIQUE_CARRIER</th>\n      <th>DEST</th>\n      <th>DEP_DELAY</th>\n      <th>CRS_ELAPSED_TIME</th>\n      <th>DISTANCE</th>\n      <th>CRS_DEP_M</th>\n      <th>DEP_TIME_M</th>\n      <th>...</th>\n      <th>Drizzle</th>\n      <th>Snow</th>\n      <th>Wintry Mix</th>\n      <th>Freezing Rain</th>\n      <th>MONTH_sin</th>\n      <th>MONTH_cos</th>\n      <th>DAY_OF_MONTH_sin</th>\n      <th>DAY_OF_MONTH_cos</th>\n      <th>DAY_OF_WEEK_sin</th>\n      <th>DAY_OF_WEEK_cos</th>\n    </tr>\n  </thead>\n  <tbody>\n    <tr>\n      <th>0</th>\n      <td>11</td>\n      <td>1</td>\n      <td>5</td>\n      <td>3</td>\n      <td>10</td>\n      <td>0</td>\n      <td>124</td>\n      <td>636</td>\n      <td>324</td>\n      <td>323</td>\n      <td>...</td>\n      <td>0</td>\n      <td>0</td>\n      <td>0</td>\n      <td>0</td>\n      <td>-0.5</td>\n      <td>0.866025</td>\n      <td>0.201299</td>\n      <td>0.97953</td>\n      <td>-0.974928</td>\n      <td>-0.222521</td>\n    </tr>\n    <tr>\n      <th>1</th>\n      <td>11</td>\n      <td>1</td>\n      <td>5</td>\n      <td>3</td>\n      <td>28</td>\n      <td>0</td>\n      <td>371</td>\n      <td>2475</td>\n      <td>340</td>\n      <td>333</td>\n      <td>...</td>\n      <td>0</td>\n      <td>0</td>\n      <td>0</td>\n      <td>0</td>\n      <td>-0.5</td>\n      <td>0.866025</td>\n      <td>0.201299</td>\n      <td>0.97953</td>\n      <td>-0.974928</td>\n      <td>-0.222521</td>\n    </tr>\n    <tr>\n      <th>2</th>\n      <td>11</td>\n      <td>1</td>\n      <td>5</td>\n      <td>3</td>\n      <td>20</td>\n      <td>1</td>\n      <td>181</td>\n      <td>1069</td>\n      <td>301</td>\n      <td>341</td>\n      <td>...</td>\n      <td>0</td>\n      <td>0</td>\n      <td>0</td>\n      <td>0</td>\n      <td>-0.5</td>\n      <td>0.866025</td>\n      <td>0.201299</td>\n      <td>0.97953</td>\n      <td>-0.974928</td>\n      <td>-0.222521</td>\n    </tr>\n    <tr>\n      <th>3</th>\n      <td>11</td>\n      <td>1</td>\n      <td>5</td>\n      <td>3</td>\n      <td>30</td>\n      <td>0</td>\n      <td>168</td>\n      <td>944</td>\n      <td>345</td>\n      <td>343</td>\n      <td>...</td>\n      <td>0</td>\n      <td>0</td>\n      <td>0</td>\n      <td>0</td>\n      <td>-0.5</td>\n      <td>0.866025</td>\n      <td>0.201299</td>\n      <td>0.97953</td>\n      <td>-0.974928</td>\n      <td>-0.222521</td>\n    </tr>\n    <tr>\n      <th>4</th>\n      <td>11</td>\n      <td>1</td>\n      <td>5</td>\n      <td>4</td>\n      <td>1</td>\n      <td>0</td>\n      <td>139</td>\n      <td>760</td>\n      <td>360</td>\n      <td>356</td>\n      <td>...</td>\n      <td>0</td>\n      <td>0</td>\n      <td>0</td>\n      <td>0</td>\n      <td>-0.5</td>\n      <td>0.866025</td>\n      <td>0.201299</td>\n      <td>0.97953</td>\n      <td>-0.974928</td>\n      <td>-0.222521</td>\n    </tr>\n  </tbody>\n</table>\n<p>5 rows × 36 columns</p>\n</div>"
     },
     "execution_count": 3,
     "metadata": {},
     "output_type": "execute_result"
    }
   ],
   "source": [
    "df = pd.read_csv('df_preprocessed.csv')\n",
    "df.head()"
   ],
   "metadata": {
    "collapsed": false
   }
  },
  {
   "cell_type": "code",
   "execution_count": 4,
   "outputs": [],
   "source": [
    "mapping = {'ABQ': 0, 'ATL': 1, 'AUS': 2, 'BNA': 3, 'BOS': 4, 'BQN': 5, 'BTV': 6, 'BUF': 7, 'BUR': 8, 'BWI': 9, 'CHS': 10, 'CLE': 11, 'CLT': 12, 'CMH': 13, 'CVG': 14, 'DCA': 15, 'DEN': 16, 'DFW': 17, 'DTW': 18, 'EGE': 19, 'FLL': 20, 'HNL': 21, 'IAD': 22, 'IAH': 23, 'IND': 24, 'JAC': 25, 'JAX': 26, 'LAS': 27, 'LAX': 28, 'LGB': 29, 'MCO': 30, 'MIA': 31, 'MSP': 32, 'MSY': 33, 'OAK': 34, 'ONT': 35, 'ORD': 36, 'ORF': 37, 'ORH': 38, 'PBI': 39, 'PDX': 40, 'PHL': 41, 'PHX': 42, 'PIT': 43, 'PSE': 44, 'PSP': 45, 'PWM': 46, 'RDU': 47, 'RIC': 48, 'RNO': 49, 'ROC': 50, 'RSW': 51, 'SAN': 52, 'SAT': 53, 'SAV': 54, 'SEA': 55, 'SFO': 56, 'SJC': 57, 'SJU': 58, 'SLC': 59, 'SMF': 60, 'SRQ': 61, 'STT': 62, 'SYR': 63, 'TPA': 64}"
   ],
   "metadata": {
    "collapsed": false
   }
  },
  {
   "cell_type": "code",
   "execution_count": 5,
   "outputs": [
    {
     "data": {
      "text/plain": "28    2974\n56    1678\n4     1243\n20    1008\n30     947\n      ... \n0       58\n41      48\n49      47\n19      44\n25       5\nName: DEST, Length: 65, dtype: int64"
     },
     "execution_count": 5,
     "metadata": {},
     "output_type": "execute_result"
    }
   ],
   "source": [
    "df['DEST'].value_counts().sort_values(ascending=False)\n"
   ],
   "metadata": {
    "collapsed": false
   }
  },
  {
   "cell_type": "markdown",
   "source": [
    "TOP 3 DESTINATIONS\n",
    "Los Angeles, LAX\n",
    "San Francisco, SFO\n",
    "Boston,BOS"
   ],
   "metadata": {
    "collapsed": false
   }
  },
  {
   "cell_type": "code",
   "execution_count": 6,
   "outputs": [
    {
     "data": {
      "text/plain": "(5895, 36)"
     },
     "execution_count": 6,
     "metadata": {},
     "output_type": "execute_result"
    }
   ],
   "source": [
    "\n",
    "df_1_3 = df[df['DEST'].isin([mapping['LAX'],mapping['SFO'],mapping['BOS']])]\n",
    "df_1_3.shape"
   ],
   "metadata": {
    "collapsed": false
   }
  },
  {
   "cell_type": "markdown",
   "source": [
    "TOP 10 DESTINATIONS\n",
    "Los Angeles, LAX\n",
    "San Francisco, SFO\n",
    "Boston,BOS\n",
    "Fort Lauderdale, FLL\n",
    "Orlando, MCO\n",
    "Miami, MIA\n",
    "Buffalo, BUF\n",
    "San Juan, SJU\n",
    "Atlanta, ATL\n",
    "Charlotte, CLT"
   ],
   "metadata": {
    "collapsed": false
   }
  },
  {
   "cell_type": "code",
   "execution_count": 7,
   "outputs": [
    {
     "data": {
      "text/plain": "(11983, 36)"
     },
     "execution_count": 7,
     "metadata": {},
     "output_type": "execute_result"
    }
   ],
   "source": [
    "df_1_10 = df[df['DEST'].isin([mapping['LAX'],mapping['SFO'],mapping['BOS'],mapping['FLL'],mapping['MCO'],mapping['MIA'],mapping['BUF'],mapping['SJU'],mapping['ATL'],mapping['CLT']])]\n",
    "df_1_10.shape"
   ],
   "metadata": {
    "collapsed": false
   }
  },
  {
   "cell_type": "markdown",
   "source": [
    "TOP 25 DESTINATIONS\n",
    "Los Angeles, LAX\n",
    "San Francisco, SFO\n",
    "Boston,BOS\n",
    "Fort Lauderdale, FLL\n",
    "Orlando, MCO\n",
    "Miami, MIA\n",
    "Buffalo, BUF\n",
    "San Juan, SJU\n",
    "Atlanta, ATL\n",
    "Charlotte, CLT\n",
    "Raleigh-Durham, RDU\n",
    "Las Vegas, LAS\n",
    "Seattle, SEA\n",
    "Phoenix, PHX\n",
    "Tampa, TPA\n",
    "Chicago, ORD\n",
    "Washington, DCA\n",
    "Salt Lake City, SLC\n",
    "Rochester, ROC\n",
    "Jacksonville, JAX\n",
    "West Palm Beach, PBI\n",
    "Austin, AUS\n",
    "Burlington, BTV\n",
    "San Diego, SAN\n",
    "Norfolk, ORF"
   ],
   "metadata": {
    "collapsed": false
   }
  },
  {
   "cell_type": "code",
   "execution_count": 8,
   "outputs": [
    {
     "data": {
      "text/plain": "(20513, 36)"
     },
     "execution_count": 8,
     "metadata": {},
     "output_type": "execute_result"
    }
   ],
   "source": [
    "df_1_25 = df[df['DEST'].isin([mapping['LAX'],mapping['SFO'],mapping['BOS'],mapping['FLL'],mapping['MCO'],mapping['MIA'],mapping['BUF'],mapping['SJU'],mapping['ATL'],mapping['CLT'],mapping['RDU'],mapping['LAS'],mapping['SEA'],mapping['PHX'],mapping['TPA'],mapping['ORD'],mapping['DCA'],mapping['SLC'],mapping['ROC'],mapping['JAX'],mapping['PBI'],mapping['AUS'],mapping['BTV'],mapping['SAN'],mapping['ORF']])]\n",
    "df_1_25.shape"
   ],
   "metadata": {
    "collapsed": false
   }
  },
  {
   "cell_type": "markdown",
   "source": [
    "CSV FILES"
   ],
   "metadata": {
    "collapsed": false
   }
  },
  {
   "cell_type": "code",
   "execution_count": 9,
   "outputs": [],
   "source": [
    "df_1_3.to_csv('df_1_3.csv',index=False)\n",
    "df_1_10.to_csv('df_1_10.csv',index=False)\n",
    "df_1_25.to_csv('df_1_25.csv',index=False)\n"
   ],
   "metadata": {
    "collapsed": false
   }
  },
  {
   "cell_type": "code",
   "execution_count": null,
   "outputs": [],
   "source": [],
   "metadata": {
    "collapsed": false
   }
  }
 ],
 "metadata": {
  "kernelspec": {
   "display_name": "Python 3",
   "language": "python",
   "name": "python3"
  },
  "language_info": {
   "codemirror_mode": {
    "name": "ipython",
    "version": 2
   },
   "file_extension": ".py",
   "mimetype": "text/x-python",
   "name": "python",
   "nbconvert_exporter": "python",
   "pygments_lexer": "ipython2",
   "version": "2.7.6"
  }
 },
 "nbformat": 4,
 "nbformat_minor": 0
}
