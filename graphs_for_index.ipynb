{
 "cells": [
  {
   "cell_type": "code",
   "execution_count": 1,
   "metadata": {
    "collapsed": true
   },
   "outputs": [],
   "source": [
    "import matplotlib.pyplot as plt\n",
    "import numpy as np"
   ]
  },
  {
   "cell_type": "code",
   "execution_count": null,
   "outputs": [],
   "source": [
    "# Accuracy: 86.00508905852418%\n",
    "# Recall: 0.0\n",
    "# Precision: nan\n",
    "# F1 Score: nan\n",
    "# Confusion Matrix:\n",
    "# [[1014    0]\n",
    "#  [ 165    0]]\n",
    "\n",
    "\n",
    "# print(f\"Accuracy: {accuracy * 100}%\")\n",
    "# print(f\"Recall: {recall}\")\n",
    "# print(f\"Precision: {precision}\")\n",
    "# print(f\"F1 Score: {f1_score}\")\n",
    "# print(f\"Confusion Matrix: \\n{confusion_matrix}\")\n",
    "# print(f\"Classification Report: \\n{classification_report}\")\n",
    "\n",
    "\n",
    "# print(f\"Accuracy: {accuracy * 100}%\")\n",
    "# print(f\"Recall: {recall}\")\n",
    "# print(f\"Precision: {precision}\")\n",
    "# print(f\"F1 Score: {f1_score}\")\n",
    "# print(f\"Confusion Matrix: \\n{confusion_matrix}\")\n",
    "# print(f\"Classification Report: \\n{classification_report}\")\n",
    "\n",
    "\n",
    "# Accuracy: 87.95589482612384%\n",
    "# Recall: 0.041379310344827586\n",
    "# Precision: 0.6666666666666666\n",
    "# F1 Score: 0.07792207792207793\n",
    "# Confusion Matrix:\n",
    "# [[1031    3]\n",
    "#  [ 139    6]]"
   ],
   "metadata": {
    "collapsed": false
   }
  },
  {
   "cell_type": "code",
   "execution_count": null,
   "outputs": [],
   "source": [
    "# For df 1_10\n",
    "\n",
    "# RESULTS FOR RANDOM FOREST\n",
    "# 0.8744795281054824\n",
    "# [[10011     0]\n",
    "#  [ 1447    70]]\n",
    "# RESULTS FOR LOGISTIC REGRESSION\n",
    "# 0.8703157529493407\n",
    "# [[10000    11]\n",
    "#  [ 1484    33]]"
   ],
   "metadata": {
    "collapsed": false
   }
  }
 ],
 "metadata": {
  "kernelspec": {
   "display_name": "Python 3",
   "language": "python",
   "name": "python3"
  },
  "language_info": {
   "codemirror_mode": {
    "name": "ipython",
    "version": 2
   },
   "file_extension": ".py",
   "mimetype": "text/x-python",
   "name": "python",
   "nbconvert_exporter": "python",
   "pygments_lexer": "ipython2",
   "version": "2.7.6"
  }
 },
 "nbformat": 4,
 "nbformat_minor": 0
}
